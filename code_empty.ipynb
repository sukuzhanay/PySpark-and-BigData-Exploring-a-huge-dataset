{
  "nbformat": 4,
  "nbformat_minor": 0,
  "metadata": {
    "colab": {
      "name": "code_empty.ipynb",
      "provenance": [],
      "collapsed_sections": [],
      "include_colab_link": true
    },
    "kernelspec": {
      "display_name": "Python 3",
      "language": "python",
      "name": "python3"
    },
    "language_info": {
      "codemirror_mode": {
        "name": "ipython",
        "version": 3
      },
      "file_extension": ".py",
      "mimetype": "text/x-python",
      "name": "python",
      "nbconvert_exporter": "python",
      "pygments_lexer": "ipython3",
      "version": "3.6.9"
    }
  },
  "cells": [
    {
      "cell_type": "markdown",
      "metadata": {
        "id": "view-in-github",
        "colab_type": "text"
      },
      "source": [
        "<a href=\"https://colab.research.google.com/github/sukuzhanay/PySpark-and-BigData-Exploring-a-huge-dataset/blob/main/code_empty.ipynb\" target=\"_parent\"><img src=\"https://colab.research.google.com/assets/colab-badge.svg\" alt=\"Open In Colab\"/></a>"
      ]
    },
    {
      "cell_type": "markdown",
      "metadata": {
        "id": "fF7880IdeNqc"
      },
      "source": [
        "Task 1 - Install Spark, download datasets, create final dataframe. If you get an error regarding tar or wget, it is probably due to the Spark file being removed from the repository. Go to https://downloads.apache.org/spark/ and choose an equivalent version of Spark and Hadoop to download. So if 2.4.7 is not available, download the next version. At the time of this project creation, 2.4.7 exists."
      ]
    },
    {
      "cell_type": "code",
      "metadata": {
        "id": "c1VovUiDZ4kA"
      },
      "source": [
        "!apt-get install openjdk-8-jdk-headless -qq > /dev/null\n",
        "!wget -q https://downloads.apache.org/spark/spark-2.4.7/spark-2.4.7-bin-hadoop2.7.tgz\n",
        "!tar xf spark-2.4.7-bin-hadoop2.7.tgz\n",
        "!pip install -q findspark"
      ],
      "execution_count": 1,
      "outputs": []
    },
    {
      "cell_type": "code",
      "metadata": {
        "id": "suFqUNKDaFeo"
      },
      "source": [
        "import os\n",
        "os.environ[\"JAVA_HOME\"] = \"/usr/lib/jvm/java-8-openjdk-amd64\"\n",
        "os.environ[\"SPARK_HOME\"] = \"/content/spark-2.4.7-bin-hadoop2.7\"\n",
        "import findspark\n",
        "findspark.init()\n",
        "from google.colab import files\n",
        "from pyspark.sql import SparkSession, Window\n",
        "from pyspark.sql.functions import isnan, when, count, col, lit, trim, avg, ceil\n",
        "from pyspark.sql.types import StringType\n",
        "import matplotlib.pyplot as plt\n",
        "import pandas as pd\n",
        "import seaborn as sns"
      ],
      "execution_count": 11,
      "outputs": []
    },
    {
      "cell_type": "code",
      "metadata": {
        "colab": {
          "base_uri": "https://localhost:8080/"
        },
        "id": "2SfpwheFZDUe",
        "outputId": "f4869bda-6d92-4994-8aa6-1b1e9bd0d66d"
      },
      "source": [
        "!wget https://s3.amazonaws.com/drivendata/data/7/public/4910797b-ee55-40a7-8668-10efd5c1b960.csv -O features.csv\n",
        "!wget https://s3.amazonaws.com/drivendata/data/7/public/0bf8bc6e-30d0-4c50-956a-603fc693d966.csv -O labels.csv"
      ],
      "execution_count": 6,
      "outputs": [
        {
          "output_type": "stream",
          "text": [
            "--2020-12-20 20:00:50--  https://s3.amazonaws.com/drivendata/data/7/public/4910797b-ee55-40a7-8668-10efd5c1b960.csv\n",
            "Resolving s3.amazonaws.com (s3.amazonaws.com)... 52.217.43.70\n",
            "Connecting to s3.amazonaws.com (s3.amazonaws.com)|52.217.43.70|:443... connected.\n",
            "HTTP request sent, awaiting response... 200 OK\n",
            "Length: 20069199 (19M) [text/csv]\n",
            "Saving to: ‘features.csv’\n",
            "\n",
            "features.csv        100%[===================>]  19.14M  17.2MB/s    in 1.1s    \n",
            "\n",
            "2020-12-20 20:00:52 (17.2 MB/s) - ‘features.csv’ saved [20069199/20069199]\n",
            "\n",
            "--2020-12-20 20:00:52--  https://s3.amazonaws.com/drivendata/data/7/public/0bf8bc6e-30d0-4c50-956a-603fc693d966.csv\n",
            "Resolving s3.amazonaws.com (s3.amazonaws.com)... 52.216.230.213\n",
            "Connecting to s3.amazonaws.com (s3.amazonaws.com)|52.216.230.213|:443... connected.\n",
            "HTTP request sent, awaiting response... 200 OK\n",
            "Length: 1148327 (1.1M) [text/csv]\n",
            "Saving to: ‘labels.csv’\n",
            "\n",
            "labels.csv          100%[===================>]   1.09M  2.12MB/s    in 0.5s    \n",
            "\n",
            "2020-12-20 20:00:53 (2.12 MB/s) - ‘labels.csv’ saved [1148327/1148327]\n",
            "\n"
          ],
          "name": "stdout"
        }
      ]
    },
    {
      "cell_type": "code",
      "metadata": {
        "colab": {
          "base_uri": "https://localhost:8080/"
        },
        "id": "lHYWxV7aZN3K",
        "outputId": "c106ec8a-e0f4-496e-ea1e-ffdb033415ba"
      },
      "source": [
        "!less labels.csv\n",
        "\n"
      ],
      "execution_count": 10,
      "outputs": [
        {
          "output_type": "stream",
          "text": [
            "\u001b7\u001b[?47h\u001b[?1h\u001b=\rid,status_group\r\n",
            "69572,functional\r\n",
            "8776,functional\r\n",
            "34310,functional\r\n",
            "67743,non functional\r\n",
            "19728,functional\r\n",
            "9944,functional\r\n",
            "19816,non functional\r\n",
            "54551,non functional\r\n",
            "53934,non functional\r\n",
            "46144,functional\r\n",
            "49056,functional\r\n",
            "50409,functional\r\n",
            "36957,functional\r\n",
            "50495,functional\r\n",
            "53752,functional\r\n",
            "61848,functional\r\n",
            "48451,non functional\r\n",
            "58155,non functional\r\n",
            "34169,functional needs repair\r\n",
            "18274,functional\r\n",
            "48375,functional\r\n",
            "6091,functional\n",
            "\u001b[K:\u001b[K^C\n"
          ],
          "name": "stdout"
        }
      ]
    },
    {
      "cell_type": "code",
      "metadata": {
        "id": "osbsUikPadRq"
      },
      "source": [
        "!less features.csv\n"
      ],
      "execution_count": null,
      "outputs": []
    },
    {
      "cell_type": "code",
      "metadata": {
        "colab": {
          "base_uri": "https://localhost:8080/"
        },
        "id": "gLQBjPaxcC3B",
        "outputId": "a76189ea-0a51-485e-d492-dd6af05a00d9"
      },
      "source": [
        "!ls \n"
      ],
      "execution_count": 9,
      "outputs": [
        {
          "output_type": "stream",
          "text": [
            "features.csv  sample_data\t\t spark-2.4.7-bin-hadoop2.7.tgz\n",
            "labels.csv    spark-2.4.7-bin-hadoop2.7\n"
          ],
          "name": "stdout"
        }
      ]
    },
    {
      "cell_type": "code",
      "metadata": {
        "id": "MNuh106fc2QD"
      },
      "source": [
        "sc = SparkSession.builder.master(\"local[*]\").getOrCreate()"
      ],
      "execution_count": 12,
      "outputs": []
    },
    {
      "cell_type": "code",
      "metadata": {
        "id": "rIJrNHJUcPSf"
      },
      "source": [
        "feature = sc.read.csv(\"features.csv\", inferSchema=True, header=True)"
      ],
      "execution_count": 13,
      "outputs": []
    },
    {
      "cell_type": "markdown",
      "metadata": {
        "id": "hnsaioREeIOJ"
      },
      "source": [
        "Task 2 - Change column type, drop duplicated rows, remove whitespacs. If you are disconnected, please run the previous cells by clicking on this cell, going to Runtime, then clicking Run before."
      ]
    },
    {
      "cell_type": "code",
      "metadata": {
        "id": "2XcgZ9FT7f-G"
      },
      "source": [
        "label = sc.read.csv(\"labels.csv\", inferSchema=True, header=True)"
      ],
      "execution_count": 14,
      "outputs": []
    },
    {
      "cell_type": "code",
      "metadata": {
        "colab": {
          "base_uri": "https://localhost:8080/"
        },
        "id": "Hiz2yMf27fla",
        "outputId": "a693e088-1297-47a9-c898-5b7ae5017166"
      },
      "source": [
        "print(feature.count())\n"
      ],
      "execution_count": 16,
      "outputs": [
        {
          "output_type": "stream",
          "text": [
            "59400\n"
          ],
          "name": "stdout"
        }
      ]
    },
    {
      "cell_type": "code",
      "metadata": {
        "colab": {
          "base_uri": "https://localhost:8080/"
        },
        "id": "qLDXbAsx_53W",
        "outputId": "035e8ee2-a724-46f8-c369-19ef777bb434"
      },
      "source": [
        "print(label.count())"
      ],
      "execution_count": 17,
      "outputs": [
        {
          "output_type": "stream",
          "text": [
            "59400\n"
          ],
          "name": "stdout"
        }
      ]
    },
    {
      "cell_type": "code",
      "metadata": {
        "colab": {
          "base_uri": "https://localhost:8080/"
        },
        "id": "L5dRfsxh7fMn",
        "outputId": "d341346a-5333-4a27-cf43-e788abc15906"
      },
      "source": [
        "print(feature.columns)"
      ],
      "execution_count": 19,
      "outputs": [
        {
          "output_type": "stream",
          "text": [
            "['id', 'amount_tsh', 'date_recorded', 'funder', 'gps_height', 'installer', 'longitude', 'latitude', 'wpt_name', 'num_private', 'basin', 'subvillage', 'region', 'region_code', 'district_code', 'lga', 'ward', 'population', 'public_meeting', 'recorded_by', 'scheme_management', 'scheme_name', 'permit', 'construction_year', 'extraction_type', 'extraction_type_group', 'extraction_type_class', 'management', 'management_group', 'payment', 'payment_type', 'water_quality', 'quality_group', 'quantity', 'quantity_group', 'source', 'source_type', 'source_class', 'waterpoint_type', 'waterpoint_type_group']\n"
          ],
          "name": "stdout"
        }
      ]
    },
    {
      "cell_type": "code",
      "metadata": {
        "colab": {
          "base_uri": "https://localhost:8080/"
        },
        "id": "EcfYuB-ru9G9",
        "outputId": "98569127-defd-42f1-d65e-d0b229fb5c85"
      },
      "source": [
        "print(label.columns)"
      ],
      "execution_count": 20,
      "outputs": [
        {
          "output_type": "stream",
          "text": [
            "['id', 'status_group']\n"
          ],
          "name": "stdout"
        }
      ]
    },
    {
      "cell_type": "code",
      "metadata": {
        "id": "SGdEdHici0Zq"
      },
      "source": [
        "data = feature.join(label, on=(\"id\"))"
      ],
      "execution_count": 21,
      "outputs": []
    },
    {
      "cell_type": "code",
      "metadata": {
        "colab": {
          "base_uri": "https://localhost:8080/"
        },
        "id": "Q135E7kjqJqk",
        "outputId": "85854c40-26b5-4b3d-fb88-e294342ca5df"
      },
      "source": [
        "print(data.count())"
      ],
      "execution_count": 22,
      "outputs": [
        {
          "output_type": "stream",
          "text": [
            "59400\n"
          ],
          "name": "stdout"
        }
      ]
    },
    {
      "cell_type": "code",
      "metadata": {
        "colab": {
          "base_uri": "https://localhost:8080/"
        },
        "id": "POIFn8i025xL",
        "outputId": "8ede1de9-699d-4503-d86d-318d0f1cd360"
      },
      "source": [
        "print(data.show())"
      ],
      "execution_count": 28,
      "outputs": [
        {
          "output_type": "stream",
          "text": [
            "+-----+----------+-------------------+--------------------+----------+--------------------+-----------+-------------------+--------------------+-----------+--------------------+---------------+-----------+-----------+-------------+----------------+--------------+----------+--------------+--------------------+-----------------+--------------------+------+-----------------+---------------+---------------------+---------------------+----------------+----------------+--------------------+------------+-------------+-------------+------------+--------------+--------------------+--------------------+------------+--------------------+---------------------+--------------------+\n",
            "|   id|amount_tsh|      date_recorded|              funder|gps_height|           installer|  longitude|           latitude|            wpt_name|num_private|               basin|     subvillage|     region|region_code|district_code|             lga|          ward|population|public_meeting|         recorded_by|scheme_management|         scheme_name|permit|construction_year|extraction_type|extraction_type_group|extraction_type_class|      management|management_group|             payment|payment_type|water_quality|quality_group|    quantity|quantity_group|              source|         source_type|source_class|     waterpoint_type|waterpoint_type_group|        status_group|\n",
            "+-----+----------+-------------------+--------------------+----------+--------------------+-----------+-------------------+--------------------+-----------+--------------------+---------------+-----------+-----------+-------------+----------------+--------------+----------+--------------+--------------------+-----------------+--------------------+------+-----------------+---------------+---------------------+---------------------+----------------+----------------+--------------------+------------+-------------+-------------+------------+--------------+--------------------+--------------------+------------+--------------------+---------------------+--------------------+\n",
            "|69572|    6000.0|2011-03-14 00:00:00|               Roman|      1390|               Roman|34.93809275|        -9.85632177|                none|          0|          Lake Nyasa|       Mnyusi B|     Iringa|         11|            5|          Ludewa|      Mundindi|       109|          true|GeoData Consultan...|              VWC|               Roman| false|             1999|        gravity|              gravity|              gravity|             vwc|      user-group|        pay annually|    annually|         soft|         good|      enough|        enough|              spring|              spring| groundwater|  communal standpipe|   communal standpipe|          functional|\n",
            "| 8776|       0.0|2013-03-06 00:00:00|             Grumeti|      1399|             GRUMETI| 34.6987661|        -2.14746569|            Zahanati|          0|       Lake Victoria|        Nyamara|       Mara|         20|            2|       Serengeti|         Natta|       280|          null|GeoData Consultan...|            Other|                null|  true|             2010|        gravity|              gravity|              gravity|             wug|      user-group|           never pay|   never pay|         soft|         good|insufficient|  insufficient|rainwater harvesting|rainwater harvesting|     surface|  communal standpipe|   communal standpipe|          functional|\n",
            "|34310|      25.0|2013-02-25 00:00:00|        Lottery Club|       686|        World vision|37.46066446|        -3.82132853|         Kwa Mahundi|          0|             Pangani|        Majengo|    Manyara|         21|            4|       Simanjiro|       Ngorika|       250|          true|GeoData Consultan...|              VWC|Nyumba ya mungu p...|  true|             2009|        gravity|              gravity|              gravity|             vwc|      user-group|      pay per bucket|  per bucket|         soft|         good|      enough|        enough|                 dam|                 dam|     surface|communal standpip...|   communal standpipe|          functional|\n",
            "|67743|       0.0|2013-01-28 00:00:00|              Unicef|       263|              UNICEF|38.48616088|       -11.15529772|Zahanati Ya Nanyumbu|          0|Ruvuma / Southern...|     Mahakamani|     Mtwara|         90|           63|        Nanyumbu|      Nanyumbu|        58|          true|GeoData Consultan...|              VWC|                null|  true|             1986|    submersible|          submersible|          submersible|             vwc|      user-group|           never pay|   never pay|         soft|         good|         dry|           dry|         machine dbh|            borehole| groundwater|communal standpip...|   communal standpipe|      non functional|\n",
            "|19728|       0.0|2011-07-13 00:00:00|         Action In A|         0|             Artisan|31.13084671|        -1.82535885|             Shuleni|          0|       Lake Victoria|     Kyanyamisa|     Kagera|         18|            1|         Karagwe|    Nyakasimbi|         0|          true|GeoData Consultan...|             null|                null|  true|                0|        gravity|              gravity|              gravity|           other|           other|           never pay|   never pay|         soft|         good|    seasonal|      seasonal|rainwater harvesting|rainwater harvesting|     surface|  communal standpipe|   communal standpipe|          functional|\n",
            "| 9944|      20.0|2011-03-13 00:00:00| Mkinga Distric Coun|         0|                 DWE| 39.1727956|        -4.76558728|              Tajiri|          0|             Pangani|    Moa/Mwereme|      Tanga|          4|            8|          Mkinga|           Moa|         1|          true|GeoData Consultan...|              VWC|           Zingibali|  true|             2009|    submersible|          submersible|          submersible|             vwc|      user-group|      pay per bucket|  per bucket|        salty|        salty|      enough|        enough|               other|               other|     unknown|communal standpip...|   communal standpipe|          functional|\n",
            "|19816|       0.0|2012-10-01 00:00:00|                Dwsp|         0|                DWSP|33.36240982|        -3.76636472|          Kwa Ngomho|          0|            Internal|  Ishinabulandi|  Shinyanga|         17|            3| Shinyanga Rural|        Samuye|         0|          true|GeoData Consultan...|              VWC|                null|  true|                0|         swn 80|               swn 80|             handpump|             vwc|      user-group|           never pay|   never pay|         soft|         good|      enough|        enough|         machine dbh|            borehole| groundwater|           hand pump|            hand pump|      non functional|\n",
            "|54551|       0.0|2012-10-09 00:00:00|               Rwssp|         0|                 DWE|32.62061707|        -4.22619802|        Tushirikiane|          0|     Lake Tanganyika|Nyawishi Center|  Shinyanga|         17|            3|          Kahama|        Chambo|         0|          true|GeoData Consultan...|             null|                null|  true|                0|    nira/tanira|          nira/tanira|             handpump|             wug|      user-group|             unknown|     unknown|        milky|        milky|      enough|        enough|        shallow well|        shallow well| groundwater|           hand pump|            hand pump|      non functional|\n",
            "|53934|       0.0|2012-11-03 00:00:00|            Wateraid|         0|           Water Aid|32.71110001|        -5.14671181|   Kwa Ramadhan Musa|          0|     Lake Tanganyika|     Imalauduki|     Tabora|         14|            6|    Tabora Urban|      Itetemia|         0|          true|GeoData Consultan...|              VWC|                null|  true|                0|  india mark ii|        india mark ii|             handpump|             vwc|      user-group|           never pay|   never pay|        salty|        salty|    seasonal|      seasonal|         machine dbh|            borehole| groundwater|           hand pump|            hand pump|      non functional|\n",
            "|46144|       0.0|2011-08-03 00:00:00|         Isingiro Ho|         0|             Artisan|30.62699053|        -1.25705061|             Kwapeto|          0|       Lake Victoria|       Mkonomre|     Kagera|         18|            1|         Karagwe|        Kaisho|         0|          true|GeoData Consultan...|             null|                null|  true|                0|    nira/tanira|          nira/tanira|             handpump|             vwc|      user-group|           never pay|   never pay|         soft|         good|      enough|        enough|        shallow well|        shallow well| groundwater|           hand pump|            hand pump|          functional|\n",
            "|49056|       0.0|2011-02-20 00:00:00|             Private|        62|             Private|39.20951812|        -7.03413939|       Mzee Hokororo|          0|         Wami / Ruvu|         Mizugo|      Pwani|         60|           43|        Mkuranga|       Tambani|       345|          true|GeoData Consultan...| Private operator|                null| false|             2011|    submersible|          submersible|          submersible|private operator|      commercial|           never pay|   never pay|        salty|        salty|      enough|        enough|         machine dbh|            borehole| groundwater|               other|                other|          functional|\n",
            "|50409|     200.0|2013-02-18 00:00:00|              Danida|      1062|              DANIDA|35.77025785|       -10.57417468|    Kwa Alid Nchimbi|          0|          Lake Nyasa|   Ngondombwito|     Ruvuma|         10|            5|        Namtumbo|        Msindo|       250|          true|GeoData Consultan...|              WUG|                null| false|             1987|         swn 80|               swn 80|             handpump|             wug|      user-group|pay when scheme f...|  on failure|         soft|         good|insufficient|  insufficient|        shallow well|        shallow well| groundwater|           hand pump|            hand pump|          functional|\n",
            "|36957|       0.0|2012-10-14 00:00:00|        World Vision|         0|        World vision|33.79810612|-3.2901937999999995|               Pamba|          0|            Internal|        Nkilifa|  Shinyanga|         17|            2|           Maswa|      Busilili|         0|          true|GeoData Consultan...|              WUG|                null| false|                0|    nira/tanira|          nira/tanira|             handpump|             wug|      user-group|               other|       other|         soft|         good|      enough|        enough|        shallow well|        shallow well| groundwater|           hand pump|            hand pump|          functional|\n",
            "|50495|       0.0|2013-03-15 00:00:00|Lawatefuka Water ...|      1368|Lawatefuka water sup|37.09257412|-3.1817832999999998|Kwa John Izack Mmari|          0|             Pangani|        Omarini|Kilimanjaro|          3|            7|            Siha|Siha Kaskazini|         1|          true|GeoData Consultan...|      Water Board|          BL Bondeni|  true|             2009|        gravity|              gravity|              gravity|     water board|      user-group|         pay monthly|     monthly|         soft|         good|      enough|        enough|              spring|              spring| groundwater|  communal standpipe|   communal standpipe|          functional|\n",
            "|53752|       0.0|2012-10-20 00:00:00|               Biore|         0|              WEDECO|34.36407268|        -3.62933335|           Mwabasabi|          0|            Internal|      Mwabasabi|  Shinyanga|         17|            6|           Meatu|         Nkoma|         0|          true|GeoData Consultan...|              WUG|                None|  true|                0|    nira/tanira|          nira/tanira|             handpump|             wug|      user-group|           never pay|   never pay|         soft|         good|      enough|        enough|        shallow well|        shallow well| groundwater|           hand pump|            hand pump|          functional|\n",
            "|61848|       0.0|2011-08-04 00:00:00|               Rudep|      1645|                 DWE|31.44412134|        -8.27496163|Kwa Juvenal Ching...|          0|     Lake Tanganyika|          Tunzi|      Rukwa|         15|            2|Sumbawanga Rural|         Mkowe|       200|          true|GeoData Consultan...|              VWC|                null| false|             1991|         swn 80|               swn 80|             handpump|             vwc|      user-group|           never pay|   never pay|         soft|         good|      enough|        enough|         machine dbh|            borehole| groundwater|           hand pump|            hand pump|          functional|\n",
            "|48451|     500.0|2011-07-04 00:00:00|              Unicef|      1703|                 DWE|34.64243884|        -9.10618458|     Kwa John Mtenzi|          0|              Rufiji|       Kidudumo|     Iringa|         11|            4|          Njombe|        Mdandu|        35|          true|GeoData Consultan...|              WUA|wanging'ombe wate...|  true|             1978|        gravity|              gravity|              gravity|             wua|      user-group|         pay monthly|     monthly|         soft|         good|         dry|           dry|               river|          river/lake|     surface|  communal standpipe|   communal standpipe|      non functional|\n",
            "|58155|       0.0|2011-09-04 00:00:00|              Unicef|      1656|                 DWE|34.56926611|        -9.08551497|     Kwa Rose Chaula|          0|              Rufiji|         Yeriko|     Iringa|         11|            4|          Njombe|         Usuka|        50|          true|GeoData Consultan...|              WUA|wanging'ombe wate...|  true|             1978|        gravity|              gravity|              gravity|             wua|      user-group|pay when scheme f...|  on failure|         soft|         good|         dry|           dry|               river|          river/lake|     surface|  communal standpipe|   communal standpipe|      non functional|\n",
            "|34169|       0.0|2011-07-22 00:00:00|              Hesawa|      1162|                 DWE|32.92015381|        -1.94786801|              Ngomee|          0|       Lake Victoria|         Center|     Mwanza|         19|            1|         Ukerewe|      Ilangala|      1000|          null|GeoData Consultan...|             null|                null|  true|             1999|          other|                other|                other|             vwc|      user-group|           never pay|   never pay|        milky|        milky|insufficient|  insufficient|              spring|              spring| groundwater|               other|                other|functional needs ...|\n",
            "|18274|     500.0|2011-02-22 00:00:00|              Danida|      1763|               Danid|34.50896732|         -9.8944125|                none|          0|          Lake Nyasa|       Manyanya|     Iringa|         11|            5|          Ludewa|       Mawengi|         1|          true|GeoData Consultan...|              VWC|              Makanj|  true|             1992|        gravity|              gravity|              gravity|             vwc|      user-group|        pay annually|    annually|         soft|         good|      enough|        enough|              spring|              spring| groundwater|  communal standpipe|   communal standpipe|          functional|\n",
            "+-----+----------+-------------------+--------------------+----------+--------------------+-----------+-------------------+--------------------+-----------+--------------------+---------------+-----------+-----------+-------------+----------------+--------------+----------+--------------+--------------------+-----------------+--------------------+------+-----------------+---------------+---------------------+---------------------+----------------+----------------+--------------------+------------+-------------+-------------+------------+--------------+--------------------+--------------------+------------+--------------------+---------------------+--------------------+\n",
            "only showing top 20 rows\n",
            "\n",
            "None\n"
          ],
          "name": "stdout"
        }
      ]
    },
    {
      "cell_type": "code",
      "metadata": {
        "colab": {
          "base_uri": "https://localhost:8080/"
        },
        "id": "hoRiuCgbs4Jm",
        "outputId": "db900ce9-fbbf-426a-ced9-80bf014b43ac"
      },
      "source": [
        "print(data.columns)"
      ],
      "execution_count": 23,
      "outputs": [
        {
          "output_type": "stream",
          "text": [
            "['id', 'amount_tsh', 'date_recorded', 'funder', 'gps_height', 'installer', 'longitude', 'latitude', 'wpt_name', 'num_private', 'basin', 'subvillage', 'region', 'region_code', 'district_code', 'lga', 'ward', 'population', 'public_meeting', 'recorded_by', 'scheme_management', 'scheme_name', 'permit', 'construction_year', 'extraction_type', 'extraction_type_group', 'extraction_type_class', 'management', 'management_group', 'payment', 'payment_type', 'water_quality', 'quality_group', 'quantity', 'quantity_group', 'source', 'source_type', 'source_class', 'waterpoint_type', 'waterpoint_type_group', 'status_group']\n"
          ],
          "name": "stdout"
        }
      ]
    },
    {
      "cell_type": "markdown",
      "metadata": {
        "id": "ybjHZcDP2l-9"
      },
      "source": [
        "Task 2 - Change column type, drop duplicated rows, remove whitespacs. If you are disconnected, please run the previous cells by clicking on this cell, going to Runtime, then clicking Run before.\n"
      ]
    },
    {
      "cell_type": "code",
      "metadata": {
        "colab": {
          "base_uri": "https://localhost:8080/"
        },
        "id": "RmQfXFDA2pFK",
        "outputId": "3189834f-47d9-4c28-8a50-8343d64ddabb"
      },
      "source": [
        "print (data.printSchema())"
      ],
      "execution_count": 31,
      "outputs": [
        {
          "output_type": "stream",
          "text": [
            "root\n",
            " |-- id: integer (nullable = true)\n",
            " |-- amount_tsh: double (nullable = true)\n",
            " |-- date_recorded: timestamp (nullable = true)\n",
            " |-- funder: string (nullable = true)\n",
            " |-- gps_height: integer (nullable = true)\n",
            " |-- installer: string (nullable = true)\n",
            " |-- longitude: double (nullable = true)\n",
            " |-- latitude: double (nullable = true)\n",
            " |-- wpt_name: string (nullable = true)\n",
            " |-- num_private: integer (nullable = true)\n",
            " |-- basin: string (nullable = true)\n",
            " |-- subvillage: string (nullable = true)\n",
            " |-- region: string (nullable = true)\n",
            " |-- region_code: integer (nullable = true)\n",
            " |-- district_code: integer (nullable = true)\n",
            " |-- lga: string (nullable = true)\n",
            " |-- ward: string (nullable = true)\n",
            " |-- population: integer (nullable = true)\n",
            " |-- public_meeting: boolean (nullable = true)\n",
            " |-- recorded_by: string (nullable = true)\n",
            " |-- scheme_management: string (nullable = true)\n",
            " |-- scheme_name: string (nullable = true)\n",
            " |-- permit: boolean (nullable = true)\n",
            " |-- construction_year: integer (nullable = true)\n",
            " |-- extraction_type: string (nullable = true)\n",
            " |-- extraction_type_group: string (nullable = true)\n",
            " |-- extraction_type_class: string (nullable = true)\n",
            " |-- management: string (nullable = true)\n",
            " |-- management_group: string (nullable = true)\n",
            " |-- payment: string (nullable = true)\n",
            " |-- payment_type: string (nullable = true)\n",
            " |-- water_quality: string (nullable = true)\n",
            " |-- quality_group: string (nullable = true)\n",
            " |-- quantity: string (nullable = true)\n",
            " |-- quantity_group: string (nullable = true)\n",
            " |-- source: string (nullable = true)\n",
            " |-- source_type: string (nullable = true)\n",
            " |-- source_class: string (nullable = true)\n",
            " |-- waterpoint_type: string (nullable = true)\n",
            " |-- waterpoint_type_group: string (nullable = true)\n",
            " |-- status_group: string (nullable = true)\n",
            "\n",
            "None\n"
          ],
          "name": "stdout"
        }
      ]
    },
    {
      "cell_type": "code",
      "metadata": {
        "id": "OAofjKuU39oK"
      },
      "source": [
        "data = data.withColumn('region_code', col('region_code').cast(StringType())).withColumn('district_code', col('district_code').cast(StringType()))"
      ],
      "execution_count": 36,
      "outputs": []
    },
    {
      "cell_type": "code",
      "metadata": {
        "colab": {
          "base_uri": "https://localhost:8080/"
        },
        "id": "LXG1uXbb9UsH",
        "outputId": "52fb1fdc-5f7e-4696-f586-1ae54e1d5108"
      },
      "source": [
        "print(data.printSchema())"
      ],
      "execution_count": 37,
      "outputs": [
        {
          "output_type": "stream",
          "text": [
            "root\n",
            " |-- id: integer (nullable = true)\n",
            " |-- amount_tsh: double (nullable = true)\n",
            " |-- date_recorded: timestamp (nullable = true)\n",
            " |-- funder: string (nullable = true)\n",
            " |-- gps_height: integer (nullable = true)\n",
            " |-- installer: string (nullable = true)\n",
            " |-- longitude: double (nullable = true)\n",
            " |-- latitude: double (nullable = true)\n",
            " |-- wpt_name: string (nullable = true)\n",
            " |-- num_private: integer (nullable = true)\n",
            " |-- basin: string (nullable = true)\n",
            " |-- subvillage: string (nullable = true)\n",
            " |-- region: string (nullable = true)\n",
            " |-- region_code: string (nullable = true)\n",
            " |-- district_code: string (nullable = true)\n",
            " |-- lga: string (nullable = true)\n",
            " |-- ward: string (nullable = true)\n",
            " |-- population: integer (nullable = true)\n",
            " |-- public_meeting: boolean (nullable = true)\n",
            " |-- recorded_by: string (nullable = true)\n",
            " |-- scheme_management: string (nullable = true)\n",
            " |-- scheme_name: string (nullable = true)\n",
            " |-- permit: boolean (nullable = true)\n",
            " |-- construction_year: integer (nullable = true)\n",
            " |-- extraction_type: string (nullable = true)\n",
            " |-- extraction_type_group: string (nullable = true)\n",
            " |-- extraction_type_class: string (nullable = true)\n",
            " |-- management: string (nullable = true)\n",
            " |-- management_group: string (nullable = true)\n",
            " |-- payment: string (nullable = true)\n",
            " |-- payment_type: string (nullable = true)\n",
            " |-- water_quality: string (nullable = true)\n",
            " |-- quality_group: string (nullable = true)\n",
            " |-- quantity: string (nullable = true)\n",
            " |-- quantity_group: string (nullable = true)\n",
            " |-- source: string (nullable = true)\n",
            " |-- source_type: string (nullable = true)\n",
            " |-- source_class: string (nullable = true)\n",
            " |-- waterpoint_type: string (nullable = true)\n",
            " |-- waterpoint_type_group: string (nullable = true)\n",
            " |-- status_group: string (nullable = true)\n",
            "\n",
            "None\n"
          ],
          "name": "stdout"
        }
      ]
    },
    {
      "cell_type": "markdown",
      "metadata": {
        "id": "F4nxtJz_5rfI"
      },
      "source": [
        ""
      ]
    },
    {
      "cell_type": "code",
      "metadata": {
        "id": "9aw-7Li39oHp"
      },
      "source": [
        "data = data.dropDuplicates(['id'])"
      ],
      "execution_count": 38,
      "outputs": []
    },
    {
      "cell_type": "code",
      "metadata": {
        "colab": {
          "base_uri": "https://localhost:8080/"
        },
        "id": "5sm4vH4a-atr",
        "outputId": "e8c5ec2b-8b4a-4480-92af-3b5e63f3cb09"
      },
      "source": [
        "data.count()"
      ],
      "execution_count": 39,
      "outputs": [
        {
          "output_type": "execute_result",
          "data": {
            "text/plain": [
              "59400"
            ]
          },
          "metadata": {
            "tags": []
          },
          "execution_count": 39
        }
      ]
    },
    {
      "cell_type": "code",
      "metadata": {
        "id": "VwoywiWN-iIv"
      },
      "source": [
        "str_cols = [item[0] for item in data.dtypes if item[1].startswith('string')]\n",
        "for cols in str_cols:\n",
        "  data = data.withColumn(cols, trim(data[cols]))"
      ],
      "execution_count": 41,
      "outputs": []
    },
    {
      "cell_type": "markdown",
      "metadata": {
        "id": "xN4Y2cJp7s5z"
      },
      "source": [
        "Task 3 - Remove columns with null values more than a threshold. If you are disconnected, please run the previous cells by clicking on this cell, going to Runtime, then clicking Run before."
      ]
    },
    {
      "cell_type": "code",
      "metadata": {
        "colab": {
          "base_uri": "https://localhost:8080/"
        },
        "id": "XPPyebqYBkPc",
        "outputId": "146693b8-0cd9-4460-e24d-24d0f0ade3d3"
      },
      "source": [
        "data.select([count(when(isnan(c) | col(c).isNull(),c)).alias(c) for c in data.columns if c not in{'date_recorded','public_meeting', 'permit'}]).show()\n"
      ],
      "execution_count": 46,
      "outputs": [
        {
          "output_type": "stream",
          "text": [
            "+---+----------+------+----------+---------+---------+--------+--------+-----------+-----+----------+------+-----------+-------------+---+----+----------+-----------+-----------------+-----------+-----------------+---------------+---------------------+---------------------+----------+----------------+-------+------------+-------------+-------------+--------+--------------+------+-----------+------------+---------------+---------------------+------------+\n",
            "| id|amount_tsh|funder|gps_height|installer|longitude|latitude|wpt_name|num_private|basin|subvillage|region|region_code|district_code|lga|ward|population|recorded_by|scheme_management|scheme_name|construction_year|extraction_type|extraction_type_group|extraction_type_class|management|management_group|payment|payment_type|water_quality|quality_group|quantity|quantity_group|source|source_type|source_class|waterpoint_type|waterpoint_type_group|status_group|\n",
            "+---+----------+------+----------+---------+---------+--------+--------+-----------+-----+----------+------+-----------+-------------+---+----+----------+-----------+-----------------+-----------+-----------------+---------------+---------------------+---------------------+----------+----------------+-------+------------+-------------+-------------+--------+--------------+------+-----------+------------+---------------+---------------------+------------+\n",
            "|  0|         0|  3635|         0|     3655|        0|       0|       0|          0|    0|       371|     0|          0|            0|  0|   0|         0|          0|             3877|      28166|                0|              0|                    0|                    0|         0|               0|      0|           0|            0|            0|       0|             0|     0|          0|           0|              0|                    0|           0|\n",
            "+---+----------+------+----------+---------+---------+--------+--------+-----------+-----+----------+------+-----------+-------------+---+----+----------+-----------+-----------------+-----------+-----------------+---------------+---------------------+---------------------+----------+----------------+-------+------------+-------------+-------------+--------+--------------+------+-----------+------------+---------------+---------------------+------------+\n",
            "\n"
          ],
          "name": "stdout"
        }
      ]
    },
    {
      "cell_type": "code",
      "metadata": {
        "id": "IowUO7XOEoIC"
      },
      "source": [
        "agg_row = data.select([(count(when(isnan(c) | col(c).isNull(),c))/data.count()).alias(c) for c in data.columns if c not in{'date_recorded','public_meeting', 'permit'}]).collect()\n"
      ],
      "execution_count": 49,
      "outputs": []
    },
    {
      "cell_type": "code",
      "metadata": {
        "id": "BvpeDXJWG83m"
      },
      "source": [
        ""
      ],
      "execution_count": null,
      "outputs": []
    },
    {
      "cell_type": "code",
      "metadata": {
        "id": "DJ3imqDFEC-D"
      },
      "source": [
        "agg_dict_list =[row.asDict() for row in agg_row]\n"
      ],
      "execution_count": 50,
      "outputs": []
    },
    {
      "cell_type": "code",
      "metadata": {
        "id": "OV5GXQIiG9yv"
      },
      "source": [
        "agg_dict = agg_dict_list[0]"
      ],
      "execution_count": 52,
      "outputs": []
    },
    {
      "cell_type": "code",
      "metadata": {
        "id": "OCh3QfWXHLAE"
      },
      "source": [
        "col_null = list({i for i in agg_dict if agg_dict[i] >0.4})"
      ],
      "execution_count": 56,
      "outputs": []
    },
    {
      "cell_type": "code",
      "metadata": {
        "colab": {
          "base_uri": "https://localhost:8080/"
        },
        "id": "38-4dCAAHvuW",
        "outputId": "bab2f90c-78ef-471b-e758-736bbb9d2201"
      },
      "source": [
        "print(agg_dict)"
      ],
      "execution_count": 57,
      "outputs": [
        {
          "output_type": "stream",
          "text": [
            "{'id': 0.0, 'amount_tsh': 0.0, 'funder': 0.0611952861952862, 'gps_height': 0.0, 'installer': 0.061531986531986535, 'longitude': 0.0, 'latitude': 0.0, 'wpt_name': 0.0, 'num_private': 0.0, 'basin': 0.0, 'subvillage': 0.0062457912457912455, 'region': 0.0, 'region_code': 0.0, 'district_code': 0.0, 'lga': 0.0, 'ward': 0.0, 'population': 0.0, 'recorded_by': 0.0, 'scheme_management': 0.06526936026936027, 'scheme_name': 0.4741750841750842, 'construction_year': 0.0, 'extraction_type': 0.0, 'extraction_type_group': 0.0, 'extraction_type_class': 0.0, 'management': 0.0, 'management_group': 0.0, 'payment': 0.0, 'payment_type': 0.0, 'water_quality': 0.0, 'quality_group': 0.0, 'quantity': 0.0, 'quantity_group': 0.0, 'source': 0.0, 'source_type': 0.0, 'source_class': 0.0, 'waterpoint_type': 0.0, 'waterpoint_type_group': 0.0, 'status_group': 0.0}\n"
          ],
          "name": "stdout"
        }
      ]
    },
    {
      "cell_type": "code",
      "metadata": {
        "colab": {
          "base_uri": "https://localhost:8080/"
        },
        "id": "iUllrB3BH1_f",
        "outputId": "9896a24c-f089-4653-ce30-16412a9baf9f"
      },
      "source": [
        "print(col_null)"
      ],
      "execution_count": 58,
      "outputs": [
        {
          "output_type": "stream",
          "text": [
            "['scheme_name']\n"
          ],
          "name": "stdout"
        }
      ]
    },
    {
      "cell_type": "code",
      "metadata": {
        "id": "o3xagkhcH_Ln"
      },
      "source": [
        "data = data.drop(*col_null)"
      ],
      "execution_count": 62,
      "outputs": []
    },
    {
      "cell_type": "markdown",
      "metadata": {
        "id": "KmpQmfp4uEy4"
      },
      "source": [
        "Task 4 - Group, aggregate, create pivot table. If you are disconnected, please run the previous cells by clicking on this cell, going to Runtime, then clicking Run before."
      ]
    },
    {
      "cell_type": "code",
      "metadata": {
        "colab": {
          "base_uri": "https://localhost:8080/"
        },
        "id": "HUsdgoahiEXd",
        "outputId": "61de7c73-df5e-4ded-bbbd-754d72446d9f"
      },
      "source": [
        "data.groupby('recorded_by').count().show()"
      ],
      "execution_count": 63,
      "outputs": [
        {
          "output_type": "stream",
          "text": [
            "+--------------------+-----+\n",
            "|         recorded_by|count|\n",
            "+--------------------+-----+\n",
            "|GeoData Consultan...|59400|\n",
            "+--------------------+-----+\n",
            "\n"
          ],
          "name": "stdout"
        }
      ]
    },
    {
      "cell_type": "code",
      "metadata": {
        "colab": {
          "base_uri": "https://localhost:8080/"
        },
        "id": "A7zeDN1cx9oP",
        "outputId": "25ad48cf-6b6a-439e-d5b1-fa70a4d70a7c"
      },
      "source": [
        "data.groupBy('water_quality').count().orderBy('count',ascending=False).show()\n"
      ],
      "execution_count": 64,
      "outputs": [
        {
          "output_type": "stream",
          "text": [
            "+------------------+-----+\n",
            "|     water_quality|count|\n",
            "+------------------+-----+\n",
            "|              soft|50818|\n",
            "|             salty| 4856|\n",
            "|           unknown| 1876|\n",
            "|             milky|  804|\n",
            "|          coloured|  490|\n",
            "|   salty abandoned|  339|\n",
            "|          fluoride|  200|\n",
            "|fluoride abandoned|   17|\n",
            "+------------------+-----+\n",
            "\n"
          ],
          "name": "stdout"
        }
      ]
    },
    {
      "cell_type": "code",
      "metadata": {
        "id": "rtu2cMrKyIFk"
      },
      "source": [
        "data= data.drop('recorded_by')"
      ],
      "execution_count": 67,
      "outputs": []
    },
    {
      "cell_type": "code",
      "metadata": {
        "colab": {
          "base_uri": "https://localhost:8080/"
        },
        "id": "VOj2f4fxmdQ1",
        "outputId": "ab23e121-2439-4ebc-bb09-65f46785209b"
      },
      "source": [
        "data.groupBy('status_group').pivot('region').sum('amount_tsh').show()"
      ],
      "execution_count": 68,
      "outputs": [
        {
          "output_type": "stream",
          "text": [
            "+--------------------+---------+-------------+------+---------+------+--------+------------------+-------+--------+--------+-----+--------+-------+-------+---------+--------+---------+---------+--------+------+--------+\n",
            "|        status_group|   Arusha|Dar es Salaam|Dodoma|   Iringa|Kagera|  Kigoma|       Kilimanjaro|  Lindi| Manyara|    Mara|Mbeya|Morogoro| Mtwara| Mwanza|    Pwani|   Rukwa|   Ruvuma|Shinyanga| Singida|Tabora|   Tanga|\n",
            "+--------------------+---------+-------------+------+---------+------+--------+------------------+-------+--------+--------+-----+--------+-------+-------+---------+--------+---------+---------+--------+------+--------+\n",
            "|functional needs ...|  10280.0|          0.0|   0.0| 118400.0|   0.0|270770.0|          129248.0| 3625.0| 71315.0|   900.0|  0.0| 70005.0|36240.0|10000.0|    520.0|292980.0| 125650.0|   2200.0|  6505.0|   0.0|  4310.0|\n",
            "|          functional|1125485.0|     181175.0|   0.0|5515710.0|   0.0|530725.0|         746942.25|24560.0|312745.0| 96786.0|  0.0|587642.0|52710.0|33550.0|1567765.0|776025.0|1827983.0|  53000.0|863415.0|   0.0|600931.0|\n",
            "|      non functional|  73330.0|       9374.0|   0.0| 752295.0|   0.0|177510.0|248454.40000000002|15730.0| 31420.0|116700.0|  0.0|184120.0|14096.0| 4500.0| 160560.0|416830.0| 414669.0|   1000.0| 74510.2|   0.0|123237.0|\n",
            "+--------------------+---------+-------------+------+---------+------+--------+------------------+-------+--------+--------+-----+--------+-------+-------+---------+--------+---------+---------+--------+------+--------+\n",
            "\n"
          ],
          "name": "stdout"
        }
      ]
    },
    {
      "cell_type": "markdown",
      "metadata": {
        "id": "Sx78CSn9HJDx"
      },
      "source": [
        "Task 5 - Convert categories with low frequency to Others, impute missing values. If you are disconnected, please run the previous cells by clicking on this cell, going to Runtime, then clicking Run before."
      ]
    },
    {
      "cell_type": "code",
      "metadata": {
        "colab": {
          "base_uri": "https://localhost:8080/"
        },
        "id": "3uPpQBZ3CAVc",
        "outputId": "fe1075da-99e3-4157-8e6b-7c32f7a69f29"
      },
      "source": [
        "print(str_cols)"
      ],
      "execution_count": 69,
      "outputs": [
        {
          "output_type": "stream",
          "text": [
            "['funder', 'installer', 'wpt_name', 'basin', 'subvillage', 'region', 'region_code', 'district_code', 'lga', 'ward', 'recorded_by', 'scheme_management', 'scheme_name', 'extraction_type', 'extraction_type_group', 'extraction_type_class', 'management', 'management_group', 'payment', 'payment_type', 'water_quality', 'quality_group', 'quantity', 'quantity_group', 'source', 'source_type', 'source_class', 'waterpoint_type', 'waterpoint_type_group', 'status_group']\n"
          ],
          "name": "stdout"
        }
      ]
    },
    {
      "cell_type": "code",
      "metadata": {
        "colab": {
          "base_uri": "https://localhost:8080/",
          "height": 1000
        },
        "id": "eXilO8LqByNa",
        "outputId": "023a7dc5-9533-4df8-c9bc-99e858b6621f"
      },
      "source": [
        "for column in str_cols:\n",
        "  print(data.groupBy(column).count().orderBy('count', ascending=False).show())\n",
        "  values_cat = data.groupBy(column).count().collect()\n",
        "  lessthan = [x[0] for x in values_cat if x [1] <1000]\n",
        "  data = data.withColumn(column, when(col(column).isin(lessthan),'Others').otherwise(col(column)))\n",
        "  data.groupby(column).count().orderBy('count', ascending=False).show()"
      ],
      "execution_count": 76,
      "outputs": [
        {
          "output_type": "stream",
          "text": [
            "+--------------------+-----+\n",
            "|              funder|count|\n",
            "+--------------------+-----+\n",
            "|Government Of Tan...| 9084|\n",
            "|                null| 3635|\n",
            "|              Danida| 3114|\n",
            "|              Hesawa| 2202|\n",
            "|               Rwssp| 1374|\n",
            "|          World Bank| 1349|\n",
            "|                Kkkt| 1287|\n",
            "|        World Vision| 1246|\n",
            "|              Unicef| 1057|\n",
            "|               Tasaf|  877|\n",
            "|    District Council|  843|\n",
            "|                 Dhv|  829|\n",
            "|  Private Individual|  826|\n",
            "|                Dwsp|  811|\n",
            "|                   0|  777|\n",
            "|               Norad|  765|\n",
            "|     Germany Republi|  610|\n",
            "|                Tcrs|  602|\n",
            "|   Ministry Of Water|  590|\n",
            "|               Water|  583|\n",
            "+--------------------+-----+\n",
            "only showing top 20 rows\n",
            "\n",
            "None\n",
            "+--------------------+-----+\n",
            "|              funder|count|\n",
            "+--------------------+-----+\n",
            "|              Others|35052|\n",
            "|Government Of Tan...| 9084|\n",
            "|                null| 3635|\n",
            "|              Danida| 3114|\n",
            "|              Hesawa| 2202|\n",
            "|               Rwssp| 1374|\n",
            "|          World Bank| 1349|\n",
            "|                Kkkt| 1287|\n",
            "|        World Vision| 1246|\n",
            "|              Unicef| 1057|\n",
            "+--------------------+-----+\n",
            "\n",
            "+------------------+-----+\n",
            "|         installer|count|\n",
            "+------------------+-----+\n",
            "|               DWE|17402|\n",
            "|              null| 3655|\n",
            "|        Government| 1825|\n",
            "|               RWE| 1206|\n",
            "|             Commu| 1060|\n",
            "|            DANIDA| 1050|\n",
            "|              KKKT|  898|\n",
            "|            Hesawa|  840|\n",
            "|                 0|  777|\n",
            "|              TCRS|  707|\n",
            "|Central government|  622|\n",
            "|               CES|  610|\n",
            "|         Community|  553|\n",
            "|             DANID|  552|\n",
            "|  District Council|  551|\n",
            "|            HESAWA|  539|\n",
            "|               LGA|  408|\n",
            "|      World vision|  408|\n",
            "|            WEDECO|  397|\n",
            "|             TASAF|  396|\n",
            "+------------------+-----+\n",
            "only showing top 20 rows\n",
            "\n",
            "None\n",
            "+----------+-----+\n",
            "| installer|count|\n",
            "+----------+-----+\n",
            "|    Others|33202|\n",
            "|       DWE|17402|\n",
            "|      null| 3655|\n",
            "|Government| 1825|\n",
            "|       RWE| 1206|\n",
            "|     Commu| 1060|\n",
            "|    DANIDA| 1050|\n",
            "+----------+-----+\n",
            "\n",
            "+---------------+-----+\n",
            "|       wpt_name|count|\n",
            "+---------------+-----+\n",
            "|           none| 3563|\n",
            "|        Shuleni| 1748|\n",
            "|       Zahanati|  830|\n",
            "|      Msikitini|  535|\n",
            "|       Kanisani|  323|\n",
            "|        Bombani|  271|\n",
            "|         Sokoni|  260|\n",
            "|        Ofisini|  254|\n",
            "|         School|  208|\n",
            "|Shule Ya Msingi|  199|\n",
            "|          Shule|  152|\n",
            "|      Sekondari|  146|\n",
            "|       Muungano|  133|\n",
            "|       Mkombozi|  111|\n",
            "|       Madukani|  104|\n",
            "|        Mbugani|   94|\n",
            "|       Hospital|   94|\n",
            "|         Upendo|   93|\n",
            "| Kituo Cha Afya|   90|\n",
            "|        Mkuyuni|   88|\n",
            "+---------------+-----+\n",
            "only showing top 20 rows\n",
            "\n",
            "None\n",
            "+--------+-----+\n",
            "|wpt_name|count|\n",
            "+--------+-----+\n",
            "|  Others|54089|\n",
            "|    none| 3563|\n",
            "| Shuleni| 1748|\n",
            "+--------+-----+\n",
            "\n",
            "+--------------------+-----+\n",
            "|               basin|count|\n",
            "+--------------------+-----+\n",
            "|       Lake Victoria|10248|\n",
            "|             Pangani| 8940|\n",
            "|              Rufiji| 7976|\n",
            "|            Internal| 7785|\n",
            "|     Lake Tanganyika| 6432|\n",
            "|         Wami / Ruvu| 5987|\n",
            "|          Lake Nyasa| 5085|\n",
            "|Ruvuma / Southern...| 4493|\n",
            "|          Lake Rukwa| 2454|\n",
            "+--------------------+-----+\n",
            "\n",
            "None\n",
            "+--------------------+-----+\n",
            "|               basin|count|\n",
            "+--------------------+-----+\n",
            "|       Lake Victoria|10248|\n",
            "|             Pangani| 8940|\n",
            "|              Rufiji| 7976|\n",
            "|            Internal| 7785|\n",
            "|     Lake Tanganyika| 6432|\n",
            "|         Wami / Ruvu| 5987|\n",
            "|          Lake Nyasa| 5085|\n",
            "|Ruvuma / Southern...| 4493|\n",
            "|          Lake Rukwa| 2454|\n",
            "+--------------------+-----+\n",
            "\n",
            "+----------+-----+\n",
            "|subvillage|count|\n",
            "+----------+-----+\n",
            "|  Madukani|  508|\n",
            "|   Shuleni|  506|\n",
            "|   Majengo|  502|\n",
            "|      Kati|  373|\n",
            "|      null|  371|\n",
            "|   Mtakuja|  262|\n",
            "|    Sokoni|  232|\n",
            "|         M|  187|\n",
            "|  Muungano|  172|\n",
            "|   Mbuyuni|  164|\n",
            "|   Mlimani|  152|\n",
            "|Songambele|  147|\n",
            "|  Miembeni|  134|\n",
            "| Msikitini|  134|\n",
            "|         1|  132|\n",
            "|   Kibaoni|  114|\n",
            "|  Kanisani|  111|\n",
            "|         I|  109|\n",
            "| Mapinduzi|  109|\n",
            "|     Mjini|  108|\n",
            "+----------+-----+\n",
            "only showing top 20 rows\n",
            "\n",
            "None\n",
            "+----------+-----+\n",
            "|subvillage|count|\n",
            "+----------+-----+\n",
            "|    Others|59029|\n",
            "|      null|  371|\n",
            "+----------+-----+\n",
            "\n",
            "+-----------+-----+\n",
            "|     region|count|\n",
            "+-----------+-----+\n",
            "|     Iringa| 5294|\n",
            "|  Shinyanga| 4982|\n",
            "|      Mbeya| 4639|\n",
            "|Kilimanjaro| 4379|\n",
            "|   Morogoro| 4006|\n",
            "|     Arusha| 3350|\n",
            "|     Kagera| 3316|\n",
            "|     Mwanza| 3102|\n",
            "|     Kigoma| 2816|\n",
            "|     Ruvuma| 2640|\n",
            "|      Pwani| 2635|\n",
            "|      Tanga| 2547|\n",
            "|     Dodoma| 2201|\n",
            "|    Singida| 2093|\n",
            "|       Mara| 1969|\n",
            "|     Tabora| 1959|\n",
            "|      Rukwa| 1808|\n",
            "|     Mtwara| 1730|\n",
            "|    Manyara| 1583|\n",
            "|      Lindi| 1546|\n",
            "+-----------+-----+\n",
            "only showing top 20 rows\n",
            "\n",
            "None\n",
            "+-----------+-----+\n",
            "|     region|count|\n",
            "+-----------+-----+\n",
            "|     Iringa| 5294|\n",
            "|  Shinyanga| 4982|\n",
            "|      Mbeya| 4639|\n",
            "|Kilimanjaro| 4379|\n",
            "|   Morogoro| 4006|\n",
            "|     Arusha| 3350|\n",
            "|     Kagera| 3316|\n",
            "|     Mwanza| 3102|\n",
            "|     Kigoma| 2816|\n",
            "|     Ruvuma| 2640|\n",
            "|      Pwani| 2635|\n",
            "|      Tanga| 2547|\n",
            "|     Dodoma| 2201|\n",
            "|    Singida| 2093|\n",
            "|       Mara| 1969|\n",
            "|     Tabora| 1959|\n",
            "|      Rukwa| 1808|\n",
            "|     Mtwara| 1730|\n",
            "|    Manyara| 1583|\n",
            "|      Lindi| 1546|\n",
            "+-----------+-----+\n",
            "only showing top 20 rows\n",
            "\n",
            "+-----------+-----+\n",
            "|region_code|count|\n",
            "+-----------+-----+\n",
            "|         11| 5300|\n",
            "|         17| 5011|\n",
            "|         12| 4639|\n",
            "|          3| 4379|\n",
            "|          5| 4040|\n",
            "|         18| 3324|\n",
            "|         19| 3047|\n",
            "|          2| 3024|\n",
            "|         16| 2816|\n",
            "|         10| 2640|\n",
            "|          4| 2513|\n",
            "|          1| 2201|\n",
            "|         13| 2093|\n",
            "|         14| 1979|\n",
            "|         20| 1969|\n",
            "|         15| 1808|\n",
            "|          6| 1609|\n",
            "|         21| 1583|\n",
            "|         80| 1238|\n",
            "|         60| 1025|\n",
            "+-----------+-----+\n",
            "only showing top 20 rows\n",
            "\n",
            "None\n",
            "+-----------+-----+\n",
            "|region_code|count|\n",
            "+-----------+-----+\n",
            "|         11| 5300|\n",
            "|         17| 5011|\n",
            "|         12| 4639|\n",
            "|          3| 4379|\n",
            "|          5| 4040|\n",
            "|         18| 3324|\n",
            "|     Others| 3162|\n",
            "|         19| 3047|\n",
            "|          2| 3024|\n",
            "|         16| 2816|\n",
            "|         10| 2640|\n",
            "|          4| 2513|\n",
            "|          1| 2201|\n",
            "|         13| 2093|\n",
            "|         14| 1979|\n",
            "|         20| 1969|\n",
            "|         15| 1808|\n",
            "|          6| 1609|\n",
            "|         21| 1583|\n",
            "|         80| 1238|\n",
            "+-----------+-----+\n",
            "only showing top 20 rows\n",
            "\n",
            "+-------------+-----+\n",
            "|district_code|count|\n",
            "+-------------+-----+\n",
            "|            1|12203|\n",
            "|            2|11173|\n",
            "|            3| 9998|\n",
            "|            4| 8999|\n",
            "|            5| 4356|\n",
            "|            6| 4074|\n",
            "|            7| 3343|\n",
            "|            8| 1043|\n",
            "|           30|  995|\n",
            "|           33|  874|\n",
            "|           53|  745|\n",
            "|           43|  505|\n",
            "|           13|  391|\n",
            "|           23|  293|\n",
            "|           63|  195|\n",
            "|           62|  109|\n",
            "|           60|   63|\n",
            "|            0|   23|\n",
            "|           80|   12|\n",
            "|           67|    6|\n",
            "+-------------+-----+\n",
            "\n",
            "None\n",
            "+-------------+-----+\n",
            "|district_code|count|\n",
            "+-------------+-----+\n",
            "|            1|12203|\n",
            "|            2|11173|\n",
            "|            3| 9998|\n",
            "|            4| 8999|\n",
            "|            5| 4356|\n",
            "|       Others| 4211|\n",
            "|            6| 4074|\n",
            "|            7| 3343|\n",
            "|            8| 1043|\n",
            "+-------------+-----+\n",
            "\n",
            "+-------------+-----+\n",
            "|          lga|count|\n",
            "+-------------+-----+\n",
            "|       Njombe| 2503|\n",
            "| Arusha Rural| 1252|\n",
            "|  Moshi Rural| 1251|\n",
            "|      Bariadi| 1177|\n",
            "|       Rungwe| 1106|\n",
            "|       Kilosa| 1094|\n",
            "|       Kasulu| 1047|\n",
            "|        Mbozi| 1034|\n",
            "|         Meru| 1009|\n",
            "|     Bagamoyo|  997|\n",
            "|Singida Rural|  995|\n",
            "|    Kilombero|  959|\n",
            "|         Same|  877|\n",
            "|      Kibondo|  874|\n",
            "|        Kyela|  859|\n",
            "|       Kahama|  836|\n",
            "| Kigoma Rural|  824|\n",
            "|         Magu|  824|\n",
            "|        Maswa|  809|\n",
            "|      Karagwe|  771|\n",
            "+-------------+-----+\n",
            "only showing top 20 rows\n",
            "\n",
            "None\n",
            "+------------+-----+\n",
            "|         lga|count|\n",
            "+------------+-----+\n",
            "|      Others|47927|\n",
            "|      Njombe| 2503|\n",
            "|Arusha Rural| 1252|\n",
            "| Moshi Rural| 1251|\n",
            "|     Bariadi| 1177|\n",
            "|      Rungwe| 1106|\n",
            "|      Kilosa| 1094|\n",
            "|      Kasulu| 1047|\n",
            "|       Mbozi| 1034|\n",
            "|        Meru| 1009|\n",
            "+------------+-----+\n",
            "\n",
            "+-------------+-----+\n",
            "|         ward|count|\n",
            "+-------------+-----+\n",
            "|        Igosi|  307|\n",
            "|     Imalinyi|  252|\n",
            "|    Siha Kati|  232|\n",
            "|       Mdandu|  231|\n",
            "|      Nduruma|  217|\n",
            "|      Mishamo|  203|\n",
            "|      Kitunda|  203|\n",
            "|       Msindo|  201|\n",
            "|     Chalinze|  196|\n",
            "| Maji ya Chai|  190|\n",
            "|        Usuka|  187|\n",
            "| Ngarenanyuki|  172|\n",
            "|      Chanika|  171|\n",
            "|      Vikindu|  162|\n",
            "|      Mtwango|  153|\n",
            "|       Matola|  145|\n",
            "|Zinga/Ikerege|  141|\n",
            "| Wanging'ombe|  139|\n",
            "|      Maramba|  139|\n",
            "|        Itete|  137|\n",
            "+-------------+-----+\n",
            "only showing top 20 rows\n",
            "\n",
            "None\n",
            "+------+-----+\n",
            "|  ward|count|\n",
            "+------+-----+\n",
            "|Others|59400|\n",
            "+------+-----+\n",
            "\n"
          ],
          "name": "stdout"
        },
        {
          "output_type": "error",
          "ename": "AnalysisException",
          "evalue": "ignored",
          "traceback": [
            "\u001b[0;31m---------------------------------------------------------------------------\u001b[0m",
            "\u001b[0;31mPy4JJavaError\u001b[0m                             Traceback (most recent call last)",
            "\u001b[0;32m/content/spark-2.4.7-bin-hadoop2.7/python/pyspark/sql/utils.py\u001b[0m in \u001b[0;36mdeco\u001b[0;34m(*a, **kw)\u001b[0m\n\u001b[1;32m     62\u001b[0m         \u001b[0;32mtry\u001b[0m\u001b[0;34m:\u001b[0m\u001b[0;34m\u001b[0m\u001b[0;34m\u001b[0m\u001b[0m\n\u001b[0;32m---> 63\u001b[0;31m             \u001b[0;32mreturn\u001b[0m \u001b[0mf\u001b[0m\u001b[0;34m(\u001b[0m\u001b[0;34m*\u001b[0m\u001b[0ma\u001b[0m\u001b[0;34m,\u001b[0m \u001b[0;34m**\u001b[0m\u001b[0mkw\u001b[0m\u001b[0;34m)\u001b[0m\u001b[0;34m\u001b[0m\u001b[0;34m\u001b[0m\u001b[0m\n\u001b[0m\u001b[1;32m     64\u001b[0m         \u001b[0;32mexcept\u001b[0m \u001b[0mpy4j\u001b[0m\u001b[0;34m.\u001b[0m\u001b[0mprotocol\u001b[0m\u001b[0;34m.\u001b[0m\u001b[0mPy4JJavaError\u001b[0m \u001b[0;32mas\u001b[0m \u001b[0me\u001b[0m\u001b[0;34m:\u001b[0m\u001b[0;34m\u001b[0m\u001b[0;34m\u001b[0m\u001b[0m\n",
            "\u001b[0;32m/content/spark-2.4.7-bin-hadoop2.7/python/lib/py4j-0.10.7-src.zip/py4j/protocol.py\u001b[0m in \u001b[0;36mget_return_value\u001b[0;34m(answer, gateway_client, target_id, name)\u001b[0m\n\u001b[1;32m    327\u001b[0m                     \u001b[0;34m\"An error occurred while calling {0}{1}{2}.\\n\"\u001b[0m\u001b[0;34m.\u001b[0m\u001b[0;34m\u001b[0m\u001b[0;34m\u001b[0m\u001b[0m\n\u001b[0;32m--> 328\u001b[0;31m                     format(target_id, \".\", name), value)\n\u001b[0m\u001b[1;32m    329\u001b[0m             \u001b[0;32melse\u001b[0m\u001b[0;34m:\u001b[0m\u001b[0;34m\u001b[0m\u001b[0;34m\u001b[0m\u001b[0m\n",
            "\u001b[0;31mPy4JJavaError\u001b[0m: An error occurred while calling o65843.count.\n: org.apache.spark.sql.AnalysisException: cannot resolve '`recorded_by`' given input columns: [quantity_group, quantity, gps_height, id, public_meeting, payment_type, source_type, water_quality, district_code, source_class, subvillage, source, region_code, management, installer, funder, date_recorded, waterpoint_type_group, latitude, extraction_type_group, basin, lga, extraction_type, construction_year, quality_group, status_group, num_private, permit, waterpoint_type, management_group, wpt_name, payment, region, scheme_management, extraction_type_class, longitude, ward, population, amount_tsh];;\n'Aggregate ['recorded_by], ['recorded_by, count(1) AS count#24116L]\n+- Project [id#10, amount_tsh#11, date_recorded#12, funder#20967, gps_height#14, installer#21297, longitude#16, latitude#17, wpt_name#21627, num_private#19, basin#21957, subvillage#22287, region#22617, region_code#22947, district_code#23277, lga#23607, CASE WHEN ward#2221 IN (Kibingo,Shinghatini,Luchili,Ukune,Chiponda,Lusahunga,Kitura,Soni,Nyanguge,Mlowo,Lilambo,Kongolo,Masumbwe,Mngazi,Makata,Muhukuru,Saunyi,Manyoni,Tumbi,Segala,Igalula,Nkololo,Ovada,Moivo,Segera,Bashinet,Mhande,Nalasi,Murusagamba,Ubiri,Kalunde,Luswisi,Makurugusi,Sumbugu,Gendabi,Mtekente,Umwe,Ufana,Selela,Mtombozi,Lalago,Ludende,Ruhunga,Irole,Nkoanrua,Nanhyanga,Kate,Ifumbo,Itaba,Litembo,Mpondo,Ibumi,Kazunzu,Chilangala,Ilujamate,Chinugulu,Mandawa,Maramba,Ihowanza,Boma la ng'ombe,Nyamilama,Nandembo,Nakapanya,Kipanga,Mamba Kaskazini,Isagenhe,Msalato,Iringa Mvumi,Kachwamba,Lunguya,Badi,Msangano,Kihorogota,Misezero,Bukene,Vigwaza,Sokon I,Vikumbulu,Mnyawa,Kihonda,Turwa,Chawi,Dung'unyi,Ipelele,Kanindo,Sokoni II,Ibwera,Kamuli,Masaba,Gwandi,Bukindo,Magindu,Hombolo,Muhange,Kukirango,Kingale,Chela,Gungu,Mbekenyera,Unyambwa,Sima,Negero,Gua,Kebanchabancha,Mabamba,Isingiro,Kidatu,Lwamgasa,Mbogwe,Haneti,Ulanda,Msanja,Mpiruka,Balangidalalu,Tambuka Reli,Mwanga Kaskazini,Mazae,Chalinze,Arusha Chini,Muganza,Panzuo,Mbamba bay,Mhezi,Kadoto,Miono,Kisarawe,Maneromango,Mlandizi,Bukanda,Ligoma,Pandagichiza,Tambani,Gelai Meirugoi,Sunuka,Ndogosi,Nduguti,Bukwe,Itilima,Mbweni,Idodyandole,Ipuli,Kizumbi,Buterankuzi,Mbede,Ushirika,Diongo...\n   +- Project [id#10, amount_tsh#11, date_recorded#12, funder#20967, gps_height#14, installer#21297, longitude#16, latitude#17, wpt_name#21627, num_private#19, basin#21957, subvillage#22287, region#22617, region_code#22947, district_code#23277, CASE WHEN lga#2179 IN (Manyoni,Karagwe,Nachingwea,Geita,Kisarawe,Mbarali,Kishapu,Chamwino,Ukerewe,Songea Urban,Rombo,Kigoma Urban,Mafia,Ludewa,Kilindi,Same,Iringa Rural,Urambo,Sumbawanga Urban,Moshi Urban,Mbinga,Kahama,Monduli,Bukombe,Sikonge,Kondoa,Ileje,Nkasi,Mpanda,Mwanga,Mtwara Urban,Ngara,Muleba,Pangani,Mbulu,Siha,Biharamulo,Mpwapwa,Kilwa,Lindi Urban,Simanjiro,Namtumbo,Muheza,Bahi,Morogoro Urban,Misenyi,Handeni,Mkinga,Bagamoyo,Karatu,Bunda,Sumbawanga Rural,Singida Rural,Meatu,Kilolo,Tabora Urban,Kiteto,Hai,Tandahimba,Shinyanga Rural,Dodoma Urban,Kilombero,Chunya,Newala,Ruangwa,Shinyanga Urban,Arusha Urban,Kyela,Ilemela,Bukoba Urban,Maswa,Tanga,Liwale,Babati,Morogoro Rural,Lushoto,Igunga,Ngorongoro,Nzega,Hanang,Kigoma Rural,Ilala,Kibondo,Chato,Ulanga,Tarime,Mufindi,Kongwa,Nanyumbu,Missungwi,Makete,Magu,Musoma Rural,Songea Rural,Mbeya Rural,Sengerema,Nyamagana,Mvomero,Korogwe,Kibaha,Mkuranga,Rufiji,Longido,Mtwara Rural,Serengeti,Rorya,Lindi Rural,Temeke,Tunduru,Bukoba Rural,Masasi,Kwimba,Iramba,Singida Urban,Kinondoni,Uyui) THEN Others ELSE lga#2179 END AS lga#23607, ward#2221, population#27, public_meeting#28, scheme_management#2305, permit#32, construction_year#33, extraction_type#2389, extraction_type_group#2431, ... 15 more f...\n      +- Project [id#10, amount_tsh#11, date_recorded#12, funder#20967, gps_height#14, installer#21297, longitude#16, latitude#17, wpt_name#21627, num_private#19, basin#21957, subvillage#22287, region#22617, region_code#22947, CASE WHEN district_code#2137 IN (30,0,43,60,23,53,33,67,63,62,13,80) THEN Others ELSE district_code#2137 END AS district_code#23277, lga#2179, ward#2221, population#27, public_meeting#28, scheme_management#2305, permit#32, construction_year#33, extraction_type#2389, extraction_type_group#2431, ... 15 more fields]\n         +- Project [id#10, amount_tsh#11, date_recorded#12, funder#20967, gps_height#14, installer#21297, longitude#16, latitude#17, wpt_name#21627, num_private#19, basin#21957, subvillage#22287, region#22617, CASE WHEN region_code#2095 IN (7,8,99,90,40,9,24) THEN Others ELSE region_code#2095 END AS region_code#22947, district_code#2137, lga#2179, ward#2221, population#27, public_meeting#28, scheme_management#2305, permit#32, construction_year#33, extraction_type#2389, extraction_type_group#2431, ... 15 more fields]\n            +- Project [id#10, amount_tsh#11, date_recorded#12, funder#20967, gps_height#14, installer#21297, longitude#16, latitude#17, wpt_name#21627, num_private#19, basin#21957, subvillage#22287, CASE WHEN region#2053 IN (Dar es Salaam) THEN Others ELSE region#2053 END AS region#22617, region_code#2095, district_code#2137, lga#2179, ward#2221, population#27, public_meeting#28, scheme_management#2305, permit#32, construction_year#33, extraction_type#2389, extraction_type_group#2431, ... 15 more fields]\n               +- Project [id#10, amount_tsh#11, date_recorded#12, funder#20967, gps_height#14, installer#21297, longitude#16, latitude#17, wpt_name#21627, num_private#19, basin#21957, CASE WHEN cast(subvillage#2011 as string) IN (cast(Kibaoni A as string),cast(Mwarongo as string),cast(K as string),cast(Mfumbu as string),cast(Mlenvya as string),cast(Mwaginde as string),cast(Uzinje as string),cast(Tumbiko as string),cast(Antakaye as string),cast(Mringa Sekondari as string),cast(Kahanama as string),cast(Nyiluko as string),cast(Mkakechuru as string),cast(Motomoto as string),cast(Magadu as string),cast(Mtaa Wa Zavala as string),cast(Kibagwe as string),cast(Kitokatoke as string),cast(Lusapo as string),cast(Larugumu as string),cast(Mwamlungu as string),cast(Ikwega as string),cast(Mwabashinda as string),cast(Ifuriny as string),cast(Kibingo as string),cast(Yuuri as string),cast(Itebe as string),cast(Mbwemkuru Kaskazini as string),cast(Mungi Juu as string),cast(Besurura as string),cast(Namagama as string),cast(Ilalangulu as string),cast(Mlandizi Chini as string),cast(Galilea as string),cast(Mtawanya Sokoni as string),cast(Omaro as string),cast(Biganana as string),cast(Mundu as string),cast(Mkhono as string),cast(Merali as string),cast(Majengo Mapya as string),cast(Kaloleni B as string),cast(Mikarambia as string),cast(Mwakulungalunga as string),cast(Mbuchi 'B' as string),cast(Rwatankororo as string),cast(Igobe as string),cast(Silika as string),cast(Uwinwi as string),cast(Mwa as stri...\n                  +- Project [id#10, amount_tsh#11, date_recorded#12, funder#20967, gps_height#14, installer#21297, longitude#16, latitude#17, wpt_name#21627, num_private#19, CASE WHEN basin#1969 IN () THEN Others ELSE basin#1969 END AS basin#21957, subvillage#2011, region#2053, region_code#2095, district_code#2137, lga#2179, ward#2221, population#27, public_meeting#28, scheme_management#2305, permit#32, construction_year#33, extraction_type#2389, extraction_type_group#2431, ... 15 more fields]\n                     +- Project [id#10, amount_tsh#11, date_recorded#12, funder#20967, gps_height#14, installer#21297, longitude#16, latitude#17, CASE WHEN wpt_name#1927 IN (Kwa Upendo Joachim,Majengo Mapya,Kwa Dotto,Senta Dp No.4,Adrea,Antakaye,Plot 15,Kwa Lucas,Mama Mlamsanga,Kwakabakama,Kwa Edmund Salingwa,Kwa Kitula,Mama Kenisi,Kwa Lugulaja Ubili,Larugumu,Komkole Shule,Kwa Marry Pascal,Ibalaibi,Kwamsoma,Baraza,Kwa Muhamed Zahor,Laurence,Bwaloni,K,Mapinduzi-Shuleni,Neema Ya Mungu,Kisangani,Kwa Kelvin,Kwa Kisingura,Motomoto,Safira Mgina,Mwanakiola,Dp 10,Kwa Ramadhani Juma,Kwa Elimirinda,Mwaijumba,Kwa Awetu Ahmad,Kwa Mkila,Kwa Mang'Ondaa,Kwa Kiom,Kwa Lindenge,K/Primary,Kwa Mzee Mwalongo,Kwa Mwakamela Mwakipesil,Miembeni B,Mamahuruma B,Kihemba,Kwa Ikonze,Kwa Doni,Nyanhenge,Kwa Ereneusi,Mizanza,Uwinwi,Mwama,Omaro,Kwa Mzee Abas,Mwasheuya,Kibua,Mataru,Shuleni - Lema,Muwondo A,Gola,Kwandunguru,Kasindi,Kwa Ngongo,Bahabura,Tanki Ndogo,Makundya Mfungo,Kwa Sophia Rashid,Masegese,Kwama Mndorwa,Kabiki Nyimvi,Ukumbini,Simon Mwiyala,Daisama,Mbono,Kwa Kabano,Kijuweni,Siaonga,Kwaudela,Mzee Namaleta,Kwa Mdugi,Kwa Mzee Lusiusi,Mwakatobe,Kwa Akili Mwangona,Kwalukwaijo,Juma Rada,Ilalangulu,Madege A,Kwa William Malya,Venus William,Philipo Maerere,Kwa Askofu Kamonongo,Kwa Chalolo,Kwamsusa,Nyalugoti,Kwa Abdalahamani,Kwa Alex Macha,Wazungu,Kwa Milton Wikunge,Uwomba,Kukuli,Kwa Hamisi Mstapha,Jwa Bonny,Mlang'Amba,Kaseni Primary School,Bomboo,Yasine Sanga,Edward Machali,Dickson Gira,Kwa Mzee Sheda...\n                        +- Project [id#10, amount_tsh#11, date_recorded#12, funder#20967, gps_height#14, CASE WHEN installer#1885 IN (Regional Water,BGM,DWR,Roman Cathoric -Kilomeni,Sao,RC mission,Village Government,Institution,K/Primary,Wedeco,K,CRS,Birage,GOVER,Hussein Ayubu,TUMAINI FUND,Internal Drainage Basin,stansilaus,Mombo urban water s,GURUMETI SAGITA CO,Got,TUKWARE ENTERP,JALCA,APM,Mwl.Mwita,HOWARD HUMFREYS,TASF,OXFARM,TPP,Villager,Plan International,COMMU,DUWAS,Consultant and DWE,Deus Ndege,DWE /TASSAF,TCRS TWESA,Milenium,DSP,Max Mbise,Said Omari,Icf,MDRDP,Luthe,JUINE CO,Buguba,rc church,EMANDA BUILDERS,Plan Tanzania,GDP,JLH CO LTD,Wilson,Africa Muslim Agenc,Embasy of Japan in Tanzania,District Water Department,IFAD,JANDU PLUMBER  CO,Hanja Lt,Caltus,Cosmo,john skwese,WORLD NK,Singida yetu,Kata,LUNGWE,Zuber Mihungo,AQUA Wel,hesaw,Te,Meru Concrete,District council,DAWE,Local  technician,KONOIKE,Water,IDEA,UN ONE,Tarangire park,Nandra Construction,Gerald,TLC/Seleman Mang'ombe,GACHUMA CONSTRUCTION,EA,Elius Chacha,BRA,Neemia mission,Rashid Mahongwe,RUDEP/,ILCT,World,lutheran church,MOSQUE,Yakwetu Contractor,World Division,Oikos E Africa,RC church,RC Njoro,WUS,MAZI INVESTMENT,AIMGOLD,Heri mission,ANGRIKANA,Said Hashim,WEEPERS,Morrovian,RO,Qwick Win,Mkuluku,FinWate,JAPAN,Mayiro,Wahidi,Central government,MTUWASA,local,MISSION,joery magabe,FIDA,DV,District Council,Islamic,ACTIVE TANK CO,MASWI CO,GRUMENTI,Water  Aid/Maji tech,DWE/TASSAF,MSIKIT,Matyenye,MH Kapuya,WINNIN SPI...\n                           +- Project [id#10, amount_tsh#11, date_recorded#12, CASE WHEN funder#1843 IN (Unicef/ Csp,Ukiligu,Village Government,Drv Na Idara,Institution,Unhcr/government,K,Birage,Rc Church,Oikos E.Africa/european Union,Secondary Schoo,Germany Cristians,Internal Drainage Basin,Private Institutions,Mwl.Mwita,Domestic Rural Development Pr,Wvt,Plan International,Domestic Water Supply Project,Shule Ya Msingi Ufala,Rotaty Club,Chai Wazir,Okutu Village Community,Said Omari,Icf,Matata Selemani,Ubalozi Wa Japani,Luthe,Kidep,Adp Mombo,Quick Win Project /council,Scott,Mzee Don,Health  Ministry,Plan Tanzania,Wilson,Caltus,Kata,H/w,Mwita Machota,Muslimehefen International,Meru Concrete,If,Fpct Mulala,Water,China Government,Sun-ja Na,Qwickwin,Hassan Gulam,Parastatal An,Woyege,Rashid Mahongwe,Sowasa,Nethe,Simav,Floresta,Eu,Germany Misionary,Father W,Kenyans Company,Oak'zion' And Bugango B' Commu,Doddea,Loliondo Secondary,Desk And Chair Foundation,Williamson Diamond Ltd,Said Hashim,Mmanya Abdallah,Kwik,Morrovian,Lions Club Kilimanjaro,Qwick Win,Mkuluku,Mheza Distric Counc,Mayiro,Wahidi,Stabex,Villegers,Ministry Of Water,Ngiresi Village Community,Care Int,District Council,Magadini-makiwaru Water,Islamic,Cartas Tanzania,Sweden,Government/school,Mama Mery Nagu,Zao Water Spring,Matyenye,Apm,Usa Embassy,H4ccp,Singida Yetu,Quick Wins Scheme,Mwita Mahiti,Su-ki Jang,Timothy Shindika,Stansilaus,Ebaha,Gil Cafe'church',Pentecostal Church,Eater,Bank,Institutional,Tredep,Karadea Ngo,Pe...\n                              +- Project [id#10, amount_tsh#11, date_recorded#12, funder#1843, gps_height#14, installer#1885, longitude#16, latitude#17, wpt_name#1927, num_private#19, basin#1969, subvillage#2011, region#2053, region_code#2095, district_code#2137, lga#2179, ward#2221, population#27, public_meeting#28, scheme_management#2305, permit#32, construction_year#33, extraction_type#2389, extraction_type_group#2431, ... 15 more fields]\n                                 +- Project [id#10, amount_tsh#11, date_recorded#12, funder#1843, gps_height#14, installer#1885, longitude#16, latitude#17, wpt_name#1927, num_private#19, basin#1969, subvillage#2011, region#2053, region_code#2095, district_code#2137, lga#2179, ward#2221, population#27, public_meeting#28, recorded_by#2263, scheme_management#2305, permit#32, construction_year#33, extraction_type#2389, ... 16 more fields]\n                                    +- Project [id#10, amount_tsh#11, date_recorded#12, funder#1843, gps_height#14, installer#1885, longitude#16, latitude#17, wpt_name#1927, num_private#19, basin#1969, subvillage#2011, region#2053, region_code#2095, district_code#2137, lga#2179, ward#2221, population#27, public_meeting#28, recorded_by#2263, scheme_management#2305, scheme_name#2347, permit#32, construction_year#33, ... 17 more fields]\n                                       +- Project [id#10, amount_tsh#11, date_recorded#12, funder#1843, gps_height#14, installer#1885, longitude#16, latitude#17, wpt_name#1927, num_private#19, basin#1969, subvillage#2011, region#2053, region_code#2095, district_code#2137, lga#2179, ward#2221, population#27, public_meeting#28, recorded_by#2263, scheme_management#2305, scheme_name#2347, permit#32, construction_year#33, ... 17 more fields]\n                                          +- Project [id#10, amount_tsh#11, date_recorded#12, funder#1843, gps_height#14, installer#1885, longitude#16, latitude#17, wpt_name#1927, num_private#19, basin#1969, subvillage#2011, region#2053, region_code#2095, district_code#2137, lga#2179, ward#2221, population#27, public_meeting#28, recorded_by#2263, scheme_management#2305, scheme_name#2347, permit#32, construction_year#33, ... 17 more fields]\n                                             +- Project [id#10, amount_tsh#11, date_recorded#12, funder#1843, gps_height#14, installer#1885, longitude#16, latitude#17, wpt_name#1927, num_private#19, basin#1969, subvillage#2011, region#2053, region_code#2095, district_code#2137, lga#2179, ward#2221, population#27, public_meeting#28, recorded_by#2263, scheme_management#2305, scheme_name#2347, permit#32, construction_year#33, ... 17 more fields]\n                                                +- Project [id#10, amount_tsh#11, date_recorded#12, funder#1843, gps_height#14, installer#1885, longitude#16, latitude#17, wpt_name#1927, num_private#19, basin#1969, subvillage#2011, region#2053, region_code#2095, district_code#2137, lga#2179, ward#2221, population#27, public_meeting#28, recorded_by#2263, scheme_management#2305, scheme_name#2347, permit#32, construction_year#33, ... 17 more fields]\n                                                   +- Project [id#10, amount_tsh#11, date_recorded#12, funder#1843, gps_height#14, installer#1885, longitude#16, latitude#17, wpt_name#1927, num_private#19, basin#1969, subvillage#2011, region#2053, region_code#2095, district_code#2137, lga#2179, ward#2221, population#27, public_meeting#28, recorded_by#2263, scheme_management#2305, scheme_name#2347, permit#32, construction_year#33, ... 17 more fields]\n                                                      +- Project [id#10, amount_tsh#11, date_recorded#12, funder#1843, gps_height#14, installer#1885, longitude#16, latitude#17, wpt_name#1927, num_private#19, basin#1969, subvillage#2011, region#2053, region_code#2095, district_code#2137, lga#2179, ward#2221, population#27, public_meeting#28, recorded_by#2263, scheme_management#2305, scheme_name#2347, permit#32, construction_year#33, ... 17 more fields]\n                                                         +- Project [id#10, amount_tsh#11, date_recorded#12, funder#1843, gps_height#14, installer#1885, longitude#16, latitude#17, wpt_name#1927, num_private#19, basin#1969, subvillage#2011, region#2053, region_code#2095, district_code#2137, lga#2179, ward#2221, population#27, public_meeting#28, recorded_by#2263, scheme_management#2305, scheme_name#2347, permit#32, construction_year#33, ... 17 more fields]\n                                                            +- Project [id#10, amount_tsh#11, date_recorded#12, funder#1843, gps_height#14, installer#1885, longitude#16, latitude#17, wpt_name#1927, num_private#19, basin#1969, subvillage#2011, region#2053, region_code#2095, district_code#2137, lga#2179, ward#2221, population#27, public_meeting#28, recorded_by#2263, scheme_management#2305, scheme_name#2347, permit#32, construction_year#33, ... 17 more fields]\n                                                               +- Project [id#10, amount_tsh#11, date_recorded#12, funder#1843, gps_height#14, installer#1885, longitude#16, latitude#17, wpt_name#1927, num_private#19, basin#1969, subvillage#2011, region#2053, region_code#2095, district_code#2137, lga#2179, ward#2221, population#27, public_meeting#28, recorded_by#2263, scheme_management#2305, scheme_name#2347, permit#32, construction_year#33, ... 17 more fields]\n                                                                  +- Project [id#10, amount_tsh#11, date_recorded#12, funder#1843, gps_height#14, installer#1885, longitude#16, latitude#17, wpt_name#1927, num_private#19, basin#1969, subvillage#2011, region#2053, region_code#2095, district_code#2137, lga#2179, ward#2221, population#27, public_meeting#28, recorded_by#2263, scheme_management#2305, scheme_name#2347, permit#32, construction_year#33, ... 17 more fields]\n                                                                     +- Project [id#10, amount_tsh#11, date_recorded#12, funder#1843, gps_height#14, installer#1885, longitude#16, latitude#17, wpt_name#1927, num_private#19, basin#1969, subvillage#2011, region#2053, region_code#2095, district_code#2137, lga#2179, ward#2221, population#27, public_meeting#28, recorded_by#2263, scheme_management#2305, scheme_name#2347, permit#32, construction_year#33, ... 17 more fields]\n                                                                        +- Project [id#10, amount_tsh#11, date_recorded#12, funder#1843, gps_height#14, installer#1885, longitude#16, latitude#17, wpt_name#1927, num_private#19, basin#1969, subvillage#2011, region#2053, region_code#2095, district_code#2137, lga#2179, ward#2221, population#27, public_meeting#28, recorded_by#2263, scheme_management#2305, scheme_name#2347, permit#32, construction_year#33, ... 17 more fields]\n                                                                           +- Project [id#10, amount_tsh#11, date_recorded#12, funder#1843, gps_height#14, installer#1885, longitude#16, latitude#17, wpt_name#1927, num_private#19, basin#1969, subvillage#2011, region#2053, region_code#2095, district_code#2137, lga#2179, ward#2221, population#27, public_meeting#28, recorded_by#2263, scheme_management#2305, scheme_name#2347, permit#32, construction_year#33, ... 17 more fields]\n                                                                              +- Project [id#10, amount_tsh#11, date_recorded#12, funder#1843, gps_height#14, installer#1885, longitude#16, latitude#17, wpt_name#1927, num_private#19, basin#1969, subvillage#2011, region#2053, region_code#2095, district_code#2137, lga#2179, ward#2221, population#27, public_meeting#28, recorded_by#2263, scheme_management#2305, scheme_name#2347, permit#32, construction_year#33, ... 17 more fields]\n                                                                                 +- Project [id#10, amount_tsh#11, date_recorded#12, funder#1843, gps_height#14, installer#1885, longitude#16, latitude#17, wpt_name#1927, num_private#19, basin#1969, subvillage#2011, region#2053, region_code#2095, district_code#2137, lga#2179, ward#2221, population#27, public_meeting#28, recorded_by#2263, scheme_management#2305, scheme_name#2347, permit#32, construction_year#33, ... 17 more fields]\n                                                                                    +- Project [id#10, amount_tsh#11, date_recorded#12, funder#1843, gps_height#14, installer#1885, longitude#16, latitude#17, wpt_name#1927, num_private#19, basin#1969, subvillage#2011, region#2053, region_code#2095, district_code#2137, lga#2179, ward#2221, population#27, public_meeting#28, recorded_by#2263, scheme_management#2305, scheme_name#2347, permit#32, construction_year#33, ... 17 more fields]\n                                                                                       +- Project [id#10, amount_tsh#11, date_recorded#12, funder#1843, gps_height#14, installer#1885, longitude#16, latitude#17, wpt_name#1927, num_private#19, basin#1969, subvillage#2011, region#2053, region_code#2095, district_code#2137, lga#2179, ward#2221, population#27, public_meeting#28, recorded_by#2263, scheme_management#2305, trim(scheme_name#1087, None) AS scheme_name#2347, permit#32, construction_year#33, ... 17 more fields]\n                                                                                          +- Project [id#10, amount_tsh#11, date_recorded#12, funder#1843, gps_height#14, installer#1885, longitude#16, latitude#17, wpt_name#1927, num_private#19, basin#1969, subvillage#2011, region#2053, region_code#2095, district_code#2137, lga#2179, ward#2221, population#27, public_meeting#28, recorded_by#2263, trim(scheme_management#1045, None) AS scheme_management#2305, scheme_name#1087, permit#32, construction_year#33, ... 17 more fields]\n                                                                                             +- Project [id#10, amount_tsh#11, date_recorded#12, funder#1843, gps_height#14, installer#1885, longitude#16, latitude#17, wpt_name#1927, num_private#19, basin#1969, subvillage#2011, region#2053, region_code#2095, district_code#2137, lga#2179, ward#2221, population#27, public_meeting#28, trim(recorded_by#1003, None) AS recorded_by#2263, scheme_management#1045, scheme_name#1087, permit#32, construction_year#33, ... 17 more fields]\n                                                                                                +- Project [id#10, amount_tsh#11, date_recorded#12, funder#1843, gps_height#14, installer#1885, longitude#16, latitude#17, wpt_name#1927, num_private#19, basin#1969, subvillage#2011, region#2053, region_code#2095, district_code#2137, lga#2179, trim(ward#961, None) AS ward#2221, population#27, public_meeting#28, recorded_by#1003, scheme_management#1045, scheme_name#1087, permit#32, construction_year#33, ... 17 more fields]\n                                                                                                   +- Project [id#10, amount_tsh#11, date_recorded#12, funder#1843, gps_height#14, installer#1885, longitude#16, latitude#17, wpt_name#1927, num_private#19, basin#1969, subvillage#2011, region#2053, region_code#2095, district_code#2137, trim(lga#919, None) AS lga#2179, ward#961, population#27, public_meeting#28, recorded_by#1003, scheme_management#1045, scheme_name#1087, permit#32, construction_year#33, ... 17 more fields]\n                                                                                                      +- Project [id#10, amount_tsh#11, date_recorded#12, funder#1843, gps_height#14, installer#1885, longitude#16, latitude#17, wpt_name#1927, num_private#19, basin#1969, subvillage#2011, region#2053, region_code#2095, trim(district_code#877, None) AS district_code#2137, lga#919, ward#961, population#27, public_meeting#28, recorded_by#1003, scheme_management#1045, scheme_name#1087, permit#32, construction_year#33, ... 17 more fields]\n                                                                                                         +- Project [id#10, amount_tsh#11, date_recorded#12, funder#1843, gps_height#14, installer#1885, longitude#16, latitude#17, wpt_name#1927, num_private#19, basin#1969, subvillage#2011, region#2053, trim(region_code#835, None) AS region_code#2095, district_code#877, lga#919, ward#961, population#27, public_meeting#28, recorded_by#1003, scheme_management#1045, scheme_name#1087, permit#32, construction_year#33, ... 17 more fields]\n                                                                                                            +- Project [id#10, amount_tsh#11, date_recorded#12, funder#1843, gps_height#14, installer#1885, longitude#16, latitude#17, wpt_name#1927, num_private#19, basin#1969, subvillage#2011, trim(region#793, None) AS region#2053, region_code#835, district_code#877, lga#919, ward#961, population#27, public_meeting#28, recorded_by#1003, scheme_management#1045, scheme_name#1087, permit#32, construction_year#33, ... 17 more fields]\n                                                                                                               +- Project [id#10, amount_tsh#11, date_recorded#12, funder#1843, gps_height#14, installer#1885, longitude#16, latitude#17, wpt_name#1927, num_private#19, basin#1969, trim(subvillage#751, None) AS subvillage#2011, region#793, region_code#835, district_code#877, lga#919, ward#961, population#27, public_meeting#28, recorded_by#1003, scheme_management#1045, scheme_name#1087, permit#32, construction_year#33, ... 17 more fields]\n                                                                                                                  +- Project [id#10, amount_tsh#11, date_recorded#12, funder#1843, gps_height#14, installer#1885, longitude#16, latitude#17, wpt_name#1927, num_private#19, trim(basin#709, None) AS basin#1969, subvillage#751, region#793, region_code#835, district_code#877, lga#919, ward#961, population#27, public_meeting#28, recorded_by#1003, scheme_management#1045, scheme_name#1087, permit#32, construction_year#33, ... 17 more fields]\n                                                                                                                     +- Project [id#10, amount_tsh#11, date_recorded#12, funder#1843, gps_height#14, installer#1885, longitude#16, latitude#17, trim(wpt_name#667, None) AS wpt_name#1927, num_private#19, basin#709, subvillage#751, region#793, region_code#835, district_code#877, lga#919, ward#961, population#27, public_meeting#28, recorded_by#1003, scheme_management#1045, scheme_name#1087, permit#32, construction_year#33, ... 17 more fields]\n                                                                                                                        +- Project [id#10, amount_tsh#11, date_recorded#12, funder#1843, gps_height#14, trim(installer#625, None) AS installer#1885, longitude#16, latitude#17, wpt_name#667, num_private#19, basin#709, subvillage#751, region#793, region_code#835, district_code#877, lga#919, ward#961, population#27, public_meeting#28, recorded_by#1003, scheme_management#1045, scheme_name#1087, permit#32, construction_year#33, ... 17 more fields]\n                                                                                                                           +- Project [id#10, amount_tsh#11, date_recorded#12, trim(funder#583, None) AS funder#1843, gps_height#14, installer#625, longitude#16, latitude#17, wpt_name#667, num_private#19, basin#709, subvillage#751, region#793, region_code#835, district_code#877, lga#919, ward#961, population#27, public_meeting#28, recorded_by#1003, scheme_management#1045, scheme_name#1087, permit#32, construction_year#33, ... 17 more fields]\n                                                                                                                              +- Project [id#10, amount_tsh#11, date_recorded#12, funder#583, gps_height#14, installer#625, longitude#16, latitude#17, wpt_name#667, num_private#19, basin#709, subvillage#751, region#793, region_code#835, district_code#877, lga#919, ward#961, population#27, public_meeting#28, recorded_by#1003, scheme_management#1045, scheme_name#1087, permit#32, construction_year#33, ... 17 more fields]\n                                                                                                                                 +- Project [id#10, amount_tsh#11, date_recorded#12, funder#583, gps_height#14, installer#625, longitude#16, latitude#17, wpt_name#667, num_private#19, basin#709, subvillage#751, region#793, region_code#835, district_code#877, lga#919, ward#961, population#27, public_meeting#28, recorded_by#1003, scheme_management#1045, scheme_name#1087, permit#32, construction_year#33, ... 17 more fields]\n                                                                                                                                    +- Project [id#10, amount_tsh#11, date_recorded#12, funder#583, gps_height#14, installer#625, longitude#16, latitude#17, wpt_name#667, num_private#19, basin#709, subvillage#751, region#793, region_code#835, district_code#877, lga#919, ward#961, population#27, public_meeting#28, recorded_by#1003, scheme_management#1045, scheme_name#1087, permit#32, construction_year#33, ... 17 more fields]\n                                                                                                                                       +- Project [id#10, amount_tsh#11, date_recorded#12, funder#583, gps_height#14, installer#625, longitude#16, latitude#17, wpt_name#667, num_private#19, basin#709, subvillage#751, region#793, region_code#835, district_code#877, lga#919, ward#961, population#27, public_meeting#28, recorded_by#1003, scheme_management#1045, scheme_name#1087, permit#32, construction_year#33, ... 17 more fields]\n                                                                                                                                          +- Project [id#10, amount_tsh#11, date_recorded#12, funder#583, gps_height#14, installer#625, longitude#16, latitude#17, wpt_name#667, num_private#19, basin#709, subvillage#751, region#793, region_code#835, district_code#877, lga#919, ward#961, population#27, public_meeting#28, recorded_by#1003, scheme_management#1045, scheme_name#1087, permit#32, construction_year#33, ... 17 more fields]\n                                                                                                                                             +- Project [id#10, amount_tsh#11, date_recorded#12, funder#583, gps_height#14, installer#625, longitude#16, latitude#17, wpt_name#667, num_private#19, basin#709, subvillage#751, region#793, region_code#835, district_code#877, lga#919, ward#961, population#27, public_meeting#28, recorded_by#1003, scheme_management#1045, scheme_name#1087, permit#32, construction_year#33, ... 17 more fields]\n                                                                                                                                                +- Project [id#10, amount_tsh#11, date_recorded#12, funder#583, gps_height#14, installer#625, longitude#16, latitude#17, wpt_name#667, num_private#19, basin#709, subvillage#751, region#793, region_code#835, district_code#877, lga#919, ward#961, population#27, public_meeting#28, recorded_by#1003, scheme_management#1045, scheme_name#1087, permit#32, construction_year#33, ... 17 more fields]\n                                                                                                                                                   +- Project [id#10, amount_tsh#11, date_recorded#12, funder#583, gps_height#14, installer#625, longitude#16, latitude#17, wpt_name#667, num_private#19, basin#709, subvillage#751, region#793, region_code#835, district_code#877, lga#919, ward#961, population#27, public_meeting#28, recorded_by#1003, scheme_management#1045, scheme_name#1087, permit#32, construction_year#33, ... 17 more fields]\n                                                                                                                                                      +- Project [id#10, amount_tsh#11, date_recorded#12, funder#583, gps_height#14, installer#625, longitude#16, latitude#17, wpt_name#667, num_private#19, basin#709, subvillage#751, region#793, region_code#835, district_code#877, lga#919, ward#961, population#27, public_meeting#28, recorded_by#1003, scheme_management#1045, scheme_name#1087, permit#32, construction_year#33, ... 17 more fields]\n                                                                                                                                                         +- Project [id#10, amount_tsh#11, date_recorded#12, funder#583, gps_height#14, installer#625, longitude#16, latitude#17, wpt_name#667, num_private#19, basin#709, subvillage#751, region#793, region_code#835, district_code#877, lga#919, ward#961, population#27, public_meeting#28, recorded_by#1003, scheme_management#1045, scheme_name#1087, permit#32, construction_year#33, ... 17 more fields]\n                                                                                                                                                            +- Project [id#10, amount_tsh#11, date_recorded#12, funder#583, gps_height#14, installer#625, longitude#16, latitude#17, wpt_name#667, num_private#19, basin#709, subvillage#751, region#793, region_code#835, district_code#877, lga#919, ward#961, population#27, public_meeting#28, recorded_by#1003, scheme_management#1045, scheme_name#1087, permit#32, construction_year#33, ... 17 more fields]\n                                                                                                                                                               +- Project [id#10, amount_tsh#11, date_recorded#12, funder#583, gps_height#14, installer#625, longitude#16, latitude#17, wpt_name#667, num_private#19, basin#709, subvillage#751, region#793, region_code#835, district_code#877, lga#919, ward#961, population#27, public_meeting#28, recorded_by#1003, scheme_management#1045, scheme_name#1087, permit#32, construction_year#33, ... 17 more fields]\n                                                                                                                                                                  +- Project [id#10, amount_tsh#11, date_recorded#12, funder#583, gps_height#14, installer#625, longitude#16, latitude#17, wpt_name#667, num_private#19, basin#709, subvillage#751, region#793, region_code#835, district_code#877, lga#919, ward#961, population#27, public_meeting#28, recorded_by#1003, scheme_management#1045, scheme_name#1087, permit#32, construction_year#33, ... 17 more fields]\n                                                                                                                                                                     +- Project [id#10, amount_tsh#11, date_recorded#12, funder#583, gps_height#14, installer#625, longitude#16, latitude#17, wpt_name#667, num_private#19, basin#709, subvillage#751, region#793, region_code#835, district_code#877, lga#919, ward#961, population#27, public_meeting#28, recorded_by#1003, scheme_management#1045, scheme_name#1087, permit#32, construction_year#33, ... 17 more fields]\n                                                                                                                                                                        +- Project [id#10, amount_tsh#11, date_recorded#12, funder#583, gps_height#14, installer#625, longitude#16, latitude#17, wpt_name#667, num_private#19, basin#709, subvillage#751, region#793, region_code#835, district_code#877, lga#919, ward#961, population#27, public_meeting#28, recorded_by#1003, scheme_management#1045, scheme_name#1087, permit#32, construction_year#33, ... 17 more fields]\n                                                                                                                                                                           +- Project [id#10, amount_tsh#11, date_recorded#12, funder#583, gps_height#14, installer#625, longitude#16, latitude#17, wpt_name#667, num_private#19, basin#709, subvillage#751, region#793, region_code#835, district_code#877, lga#919, ward#961, population#27, public_meeting#28, recorded_by#1003, scheme_management#1045, scheme_name#1087, permit#32, construction_year#33, ... 17 more fields]\n                                                                                                                                                                              +- Project [id#10, amount_tsh#11, date_recorded#12, funder#583, gps_height#14, installer#625, longitude#16, latitude#17, wpt_name#667, num_private#19, basin#709, subvillage#751, region#793, region_code#835, district_code#877, lga#919, ward#961, population#27, public_meeting#28, recorded_by#1003, scheme_management#1045, scheme_name#1087, permit#32, construction_year#33, ... 17 more fields]\n                                                                                                                                                                                 +- Project [id#10, amount_tsh#11, date_recorded#12, funder#583, gps_height#14, installer#625, longitude#16, latitude#17, wpt_name#667, num_private#19, basin#709, subvillage#751, region#793, region_code#835, district_code#877, lga#919, ward#961, population#27, public_meeting#28, recorded_by#1003, scheme_management#1045, trim(scheme_name#31, None) AS scheme_name#1087, permit#32, construction_year#33, ... 17 more fields]\n                                                                                                                                                                                    +- Project [id#10, amount_tsh#11, date_recorded#12, funder#583, gps_height#14, installer#625, longitude#16, latitude#17, wpt_name#667, num_private#19, basin#709, subvillage#751, region#793, region_code#835, district_code#877, lga#919, ward#961, population#27, public_meeting#28, recorded_by#1003, trim(scheme_management#30, None) AS scheme_management#1045, scheme_name#31, permit#32, construction_year#33, ... 17 more fields]\n                                                                                                                                                                                       +- Project [id#10, amount_tsh#11, date_recorded#12, funder#583, gps_height#14, installer#625, longitude#16, latitude#17, wpt_name#667, num_private#19, basin#709, subvillage#751, region#793, region_code#835, district_code#877, lga#919, ward#961, population#27, public_meeting#28, trim(recorded_by#29, None) AS recorded_by#1003, scheme_management#30, scheme_name#31, permit#32, construction_year#33, ... 17 more fields]\n                                                                                                                                                                                          +- Project [id#10, amount_tsh#11, date_recorded#12, funder#583, gps_height#14, installer#625, longitude#16, latitude#17, wpt_name#667, num_private#19, basin#709, subvillage#751, region#793, region_code#835, district_code#877, lga#919, trim(ward#26, None) AS ward#961, population#27, public_meeting#28, recorded_by#29, scheme_management#30, scheme_name#31, permit#32, construction_year#33, ... 17 more fields]\n                                                                                                                                                                                             +- Project [id#10, amount_tsh#11, date_recorded#12, funder#583, gps_height#14, installer#625, longitude#16, latitude#17, wpt_name#667, num_private#19, basin#709, subvillage#751, region#793, region_code#835, district_code#877, trim(lga#25, None) AS lga#919, ward#26, population#27, public_meeting#28, recorded_by#29, scheme_management#30, scheme_name#31, permit#32, construction_year#33, ... 17 more fields]\n                                                                                                                                                                                                +- Project [id#10, amount_tsh#11, date_recorded#12, funder#583, gps_height#14, installer#625, longitude#16, latitude#17, wpt_name#667, num_private#19, basin#709, subvillage#751, region#793, region_code#835, trim(district_code#453, None) AS district_code#877, lga#25, ward#26, population#27, public_meeting#28, recorded_by#29, scheme_management#30, scheme_name#31, permit#32, construction_year#33, ... 17 more fields]\n                                                                                                                                                                                                   +- Project [id#10, amount_tsh#11, date_recorded#12, funder#583, gps_height#14, installer#625, longitude#16, latitude#17, wpt_name#667, num_private#19, basin#709, subvillage#751, region#793, trim(region_code#411, None) AS region_code#835, district_code#453, lga#25, ward#26, population#27, public_meeting#28, recorded_by#29, scheme_management#30, scheme_name#31, permit#32, construction_year#33, ... 17 more fields]\n                                                                                                                                                                                                      +- Project [id#10, amount_tsh#11, date_recorded#12, funder#583, gps_height#14, installer#625, longitude#16, latitude#17, wpt_name#667, num_private#19, basin#709, subvillage#751, trim(region#22, None) AS region#793, region_code#411, district_code#453, lga#25, ward#26, population#27, public_meeting#28, recorded_by#29, scheme_management#30, scheme_name#31, permit#32, construction_year#33, ... 17 more fields]\n                                                                                                                                                                                                         +- Project [id#10, amount_tsh#11, date_recorded#12, funder#583, gps_height#14, installer#625, longitude#16, latitude#17, wpt_name#667, num_private#19, basin#709, trim(subvillage#21, None) AS subvillage#751, region#22, region_code#411, district_code#453, lga#25, ward#26, population#27, public_meeting#28, recorded_by#29, scheme_management#30, scheme_name#31, permit#32, construction_year#33, ... 17 more fields]\n                                                                                                                                                                                                            +- Project [id#10, amount_tsh#11, date_recorded#12, funder#583, gps_height#14, installer#625, longitude#16, latitude#17, wpt_name#667, num_private#19, trim(basin#20, None) AS basin#709, subvillage#21, region#22, region_code#411, district_code#453, lga#25, ward#26, population#27, public_meeting#28, recorded_by#29, scheme_management#30, scheme_name#31, permit#32, construction_year#33, ... 17 more fields]\n                                                                                                                                                                                                               +- Project [id#10, amount_tsh#11, date_recorded#12, funder#583, gps_height#14, installer#625, longitude#16, latitude#17, trim(wpt_name#18, None) AS wpt_name#667, num_private#19, basin#20, subvillage#21, region#22, region_code#411, district_code#453, lga#25, ward#26, population#27, public_meeting#28, recorded_by#29, scheme_management#30, scheme_name#31, permit#32, construction_year#33, ... 17 more fields]\n                                                                                                                                                                                                                  +- Project [id#10, amount_tsh#11, date_recorded#12, funder#583, gps_height#14, trim(installer#15, None) AS installer#625, longitude#16, latitude#17, wpt_name#18, num_private#19, basin#20, subvillage#21, region#22, region_code#411, district_code#453, lga#25, ward#26, population#27, public_meeting#28, recorded_by#29, scheme_management#30, scheme_name#31, permit#32, construction_year#33, ... 17 more fields]\n                                                                                                                                                                                                                     +- Project [id#10, amount_tsh#11, date_recorded#12, trim(funder#13, None) AS funder#583, gps_height#14, installer#15, longitude#16, latitude#17, wpt_name#18, num_private#19, basin#20, subvillage#21, region#22, region_code#411, district_code#453, lga#25, ward#26, population#27, public_meeting#28, recorded_by#29, scheme_management#30, scheme_name#31, permit#32, construction_year#33, ... 17 more fields]\n                                                                                                                                                                                                                        +- Deduplicate [id#10]\n                                                                                                                                                                                                                           +- Project [id#10, amount_tsh#11, date_recorded#12, funder#13, gps_height#14, installer#15, longitude#16, latitude#17, wpt_name#18, num_private#19, basin#20, subvillage#21, region#22, region_code#411, cast(district_code#24 as string) AS district_code#453, lga#25, ward#26, population#27, public_meeting#28, recorded_by#29, scheme_management#30, scheme_name#31, permit#32, construction_year#33, ... 17 more fields]\n                                                                                                                                                                                                                              +- Project [id#10, amount_tsh#11, date_recorded#12, funder#13, gps_height#14, installer#15, longitude#16, latitude#17, wpt_name#18, num_private#19, basin#20, subvillage#21, region#22, cast(region_code#23 as string) AS region_code#411, district_code#24, lga#25, ward#26, population#27, public_meeting#28, recorded_by#29, scheme_management#30, scheme_name#31, permit#32, construction_year#33, ... 17 more fields]\n                                                                                                                                                                                                                                 +- Project [id#10, amount_tsh#11, date_recorded#12, funder#13, gps_height#14, installer#15, longitude#16, latitude#17, wpt_name#18, num_private#19, basin#20, subvillage#21, region#22, region_code#23, district_code#24, lga#25, ward#26, population#27, public_meeting#28, recorded_by#29, scheme_management#30, scheme_name#31, permit#32, construction_year#33, ... 17 more fields]\n                                                                                                                                                                                                                                    +- Join Inner, (id#10 = id#100)\n                                                                                                                                                                                                                                       :- Relation[id#10,amount_tsh#11,date_recorded#12,funder#13,gps_height#14,installer#15,longitude#16,latitude#17,wpt_name#18,num_private#19,basin#20,subvillage#21,region#22,region_code#23,district_code#24,lga#25,ward#26,population#27,public_meeting#28,recorded_by#29,scheme_management#30,scheme_name#31,permit#32,construction_year#33,... 16 more fields] csv\n                                                                                                                                                                                                                                       +- Relation[id#100,status_group#101] csv\n\n\tat org.apache.spark.sql.catalyst.analysis.package$AnalysisErrorAt.failAnalysis(package.scala:42)\n\tat org.apache.spark.sql.catalyst.analysis.CheckAnalysis$$anonfun$checkAnalysis$1$$anonfun$apply$3.applyOrElse(CheckAnalysis.scala:111)\n\tat org.apache.spark.sql.catalyst.analysis.CheckAnalysis$$anonfun$checkAnalysis$1$$anonfun$apply$3.applyOrElse(CheckAnalysis.scala:108)\n\tat org.apache.spark.sql.catalyst.trees.TreeNode$$anonfun$transformUp$1.apply(TreeNode.scala:280)\n\tat org.apache.spark.sql.catalyst.trees.TreeNode$$anonfun$transformUp$1.apply(TreeNode.scala:280)\n\tat org.apache.spark.sql.catalyst.trees.CurrentOrigin$.withOrigin(TreeNode.scala:69)\n\tat org.apache.spark.sql.catalyst.trees.TreeNode.transformUp(TreeNode.scala:279)\n\tat org.apache.spark.sql.catalyst.plans.QueryPlan$$anonfun$transformExpressionsUp$1.apply(QueryPlan.scala:93)\n\tat org.apache.spark.sql.catalyst.plans.QueryPlan$$anonfun$transformExpressionsUp$1.apply(QueryPlan.scala:93)\n\tat org.apache.spark.sql.catalyst.plans.QueryPlan$$anonfun$1.apply(QueryPlan.scala:105)\n\tat org.apache.spark.sql.catalyst.plans.QueryPlan$$anonfun$1.apply(QueryPlan.scala:105)\n\tat org.apache.spark.sql.catalyst.trees.CurrentOrigin$.withOrigin(TreeNode.scala:69)\n\tat org.apache.spark.sql.catalyst.plans.QueryPlan.transformExpression$1(QueryPlan.scala:104)\n\tat org.apache.spark.sql.catalyst.plans.QueryPlan.org$apache$spark$sql$catalyst$plans$QueryPlan$$recursiveTransform$1(QueryPlan.scala:116)\n\tat org.apache.spark.sql.catalyst.plans.QueryPlan$$anonfun$org$apache$spark$sql$catalyst$plans$QueryPlan$$recursiveTransform$1$2.apply(QueryPlan.scala:121)\n\tat scala.collection.TraversableLike$$anonfun$map$1.apply(TraversableLike.scala:234)\n\tat scala.collection.TraversableLike$$anonfun$map$1.apply(TraversableLike.scala:234)\n\tat scala.collection.mutable.ResizableArray$class.foreach(ResizableArray.scala:59)\n\tat scala.collection.mutable.ArrayBuffer.foreach(ArrayBuffer.scala:48)\n\tat scala.collection.TraversableLike$class.map(TraversableLike.scala:234)\n\tat scala.collection.AbstractTraversable.map(Traversable.scala:104)\n\tat org.apache.spark.sql.catalyst.plans.QueryPlan.org$apache$spark$sql$catalyst$plans$QueryPlan$$recursiveTransform$1(QueryPlan.scala:121)\n\tat org.apache.spark.sql.catalyst.plans.QueryPlan$$anonfun$2.apply(QueryPlan.scala:126)\n\tat org.apache.spark.sql.catalyst.trees.TreeNode.mapProductIterator(TreeNode.scala:186)\n\tat org.apache.spark.sql.catalyst.plans.QueryPlan.mapExpressions(QueryPlan.scala:126)\n\tat org.apache.spark.sql.catalyst.plans.QueryPlan.transformExpressionsUp(QueryPlan.scala:93)\n\tat org.apache.spark.sql.catalyst.analysis.CheckAnalysis$$anonfun$checkAnalysis$1.apply(CheckAnalysis.scala:108)\n\tat org.apache.spark.sql.catalyst.analysis.CheckAnalysis$$anonfun$checkAnalysis$1.apply(CheckAnalysis.scala:86)\n\tat org.apache.spark.sql.catalyst.trees.TreeNode.foreachUp(TreeNode.scala:126)\n\tat org.apache.spark.sql.catalyst.analysis.CheckAnalysis$class.checkAnalysis(CheckAnalysis.scala:86)\n\tat org.apache.spark.sql.catalyst.analysis.Analyzer.checkAnalysis(Analyzer.scala:95)\n\tat org.apache.spark.sql.catalyst.analysis.Analyzer$$anonfun$executeAndCheck$1.apply(Analyzer.scala:108)\n\tat org.apache.spark.sql.catalyst.analysis.Analyzer$$anonfun$executeAndCheck$1.apply(Analyzer.scala:105)\n\tat org.apache.spark.sql.catalyst.plans.logical.AnalysisHelper$.markInAnalyzer(AnalysisHelper.scala:201)\n\tat org.apache.spark.sql.catalyst.analysis.Analyzer.executeAndCheck(Analyzer.scala:105)\n\tat org.apache.spark.sql.execution.QueryExecution.analyzed$lzycompute(QueryExecution.scala:58)\n\tat org.apache.spark.sql.execution.QueryExecution.analyzed(QueryExecution.scala:56)\n\tat org.apache.spark.sql.execution.QueryExecution.assertAnalyzed(QueryExecution.scala:48)\n\tat org.apache.spark.sql.Dataset$.ofRows(Dataset.scala:78)\n\tat org.apache.spark.sql.RelationalGroupedDataset.toDF(RelationalGroupedDataset.scala:65)\n\tat org.apache.spark.sql.RelationalGroupedDataset.count(RelationalGroupedDataset.scala:237)\n\tat sun.reflect.GeneratedMethodAccessor100.invoke(Unknown Source)\n\tat sun.reflect.DelegatingMethodAccessorImpl.invoke(DelegatingMethodAccessorImpl.java:43)\n\tat java.lang.reflect.Method.invoke(Method.java:498)\n\tat py4j.reflection.MethodInvoker.invoke(MethodInvoker.java:244)\n\tat py4j.reflection.ReflectionEngine.invoke(ReflectionEngine.java:357)\n\tat py4j.Gateway.invoke(Gateway.java:282)\n\tat py4j.commands.AbstractCommand.invokeMethod(AbstractCommand.java:132)\n\tat py4j.commands.CallCommand.execute(CallCommand.java:79)\n\tat py4j.GatewayConnection.run(GatewayConnection.java:238)\n\tat java.lang.Thread.run(Thread.java:748)\n",
            "\nDuring handling of the above exception, another exception occurred:\n",
            "\u001b[0;31mAnalysisException\u001b[0m                         Traceback (most recent call last)",
            "\u001b[0;32m<ipython-input-76-b00c508953c3>\u001b[0m in \u001b[0;36m<module>\u001b[0;34m()\u001b[0m\n\u001b[1;32m      1\u001b[0m \u001b[0;32mfor\u001b[0m \u001b[0mcolumn\u001b[0m \u001b[0;32min\u001b[0m \u001b[0mstr_cols\u001b[0m\u001b[0;34m:\u001b[0m\u001b[0;34m\u001b[0m\u001b[0;34m\u001b[0m\u001b[0m\n\u001b[0;32m----> 2\u001b[0;31m   \u001b[0mprint\u001b[0m\u001b[0;34m(\u001b[0m\u001b[0mdata\u001b[0m\u001b[0;34m.\u001b[0m\u001b[0mgroupBy\u001b[0m\u001b[0;34m(\u001b[0m\u001b[0mcolumn\u001b[0m\u001b[0;34m)\u001b[0m\u001b[0;34m.\u001b[0m\u001b[0mcount\u001b[0m\u001b[0;34m(\u001b[0m\u001b[0;34m)\u001b[0m\u001b[0;34m.\u001b[0m\u001b[0morderBy\u001b[0m\u001b[0;34m(\u001b[0m\u001b[0;34m'count'\u001b[0m\u001b[0;34m,\u001b[0m \u001b[0mascending\u001b[0m\u001b[0;34m=\u001b[0m\u001b[0;32mFalse\u001b[0m\u001b[0;34m)\u001b[0m\u001b[0;34m.\u001b[0m\u001b[0mshow\u001b[0m\u001b[0;34m(\u001b[0m\u001b[0;34m)\u001b[0m\u001b[0;34m)\u001b[0m\u001b[0;34m\u001b[0m\u001b[0;34m\u001b[0m\u001b[0m\n\u001b[0m\u001b[1;32m      3\u001b[0m   \u001b[0mvalues_cat\u001b[0m \u001b[0;34m=\u001b[0m \u001b[0mdata\u001b[0m\u001b[0;34m.\u001b[0m\u001b[0mgroupBy\u001b[0m\u001b[0;34m(\u001b[0m\u001b[0mcolumn\u001b[0m\u001b[0;34m)\u001b[0m\u001b[0;34m.\u001b[0m\u001b[0mcount\u001b[0m\u001b[0;34m(\u001b[0m\u001b[0;34m)\u001b[0m\u001b[0;34m.\u001b[0m\u001b[0mcollect\u001b[0m\u001b[0;34m(\u001b[0m\u001b[0;34m)\u001b[0m\u001b[0;34m\u001b[0m\u001b[0;34m\u001b[0m\u001b[0m\n\u001b[1;32m      4\u001b[0m   \u001b[0mlessthan\u001b[0m \u001b[0;34m=\u001b[0m \u001b[0;34m[\u001b[0m\u001b[0mx\u001b[0m\u001b[0;34m[\u001b[0m\u001b[0;36m0\u001b[0m\u001b[0;34m]\u001b[0m \u001b[0;32mfor\u001b[0m \u001b[0mx\u001b[0m \u001b[0;32min\u001b[0m \u001b[0mvalues_cat\u001b[0m \u001b[0;32mif\u001b[0m \u001b[0mx\u001b[0m \u001b[0;34m[\u001b[0m\u001b[0;36m1\u001b[0m\u001b[0;34m]\u001b[0m \u001b[0;34m<\u001b[0m\u001b[0;36m1000\u001b[0m\u001b[0;34m]\u001b[0m\u001b[0;34m\u001b[0m\u001b[0;34m\u001b[0m\u001b[0m\n\u001b[1;32m      5\u001b[0m   \u001b[0mdata\u001b[0m \u001b[0;34m=\u001b[0m \u001b[0mdata\u001b[0m\u001b[0;34m.\u001b[0m\u001b[0mwithColumn\u001b[0m\u001b[0;34m(\u001b[0m\u001b[0mcolumn\u001b[0m\u001b[0;34m,\u001b[0m \u001b[0mwhen\u001b[0m\u001b[0;34m(\u001b[0m\u001b[0mcol\u001b[0m\u001b[0;34m(\u001b[0m\u001b[0mcolumn\u001b[0m\u001b[0;34m)\u001b[0m\u001b[0;34m.\u001b[0m\u001b[0misin\u001b[0m\u001b[0;34m(\u001b[0m\u001b[0mlessthan\u001b[0m\u001b[0;34m)\u001b[0m\u001b[0;34m,\u001b[0m\u001b[0;34m'Others'\u001b[0m\u001b[0;34m)\u001b[0m\u001b[0;34m.\u001b[0m\u001b[0motherwise\u001b[0m\u001b[0;34m(\u001b[0m\u001b[0mcol\u001b[0m\u001b[0;34m(\u001b[0m\u001b[0mcolumn\u001b[0m\u001b[0;34m)\u001b[0m\u001b[0;34m)\u001b[0m\u001b[0;34m)\u001b[0m\u001b[0;34m\u001b[0m\u001b[0;34m\u001b[0m\u001b[0m\n",
            "\u001b[0;32m/content/spark-2.4.7-bin-hadoop2.7/python/pyspark/sql/group.py\u001b[0m in \u001b[0;36m_api\u001b[0;34m(self)\u001b[0m\n\u001b[1;32m     30\u001b[0m     \u001b[0;32mdef\u001b[0m \u001b[0m_api\u001b[0m\u001b[0;34m(\u001b[0m\u001b[0mself\u001b[0m\u001b[0;34m)\u001b[0m\u001b[0;34m:\u001b[0m\u001b[0;34m\u001b[0m\u001b[0;34m\u001b[0m\u001b[0m\n\u001b[1;32m     31\u001b[0m         \u001b[0mname\u001b[0m \u001b[0;34m=\u001b[0m \u001b[0mf\u001b[0m\u001b[0;34m.\u001b[0m\u001b[0m__name__\u001b[0m\u001b[0;34m\u001b[0m\u001b[0;34m\u001b[0m\u001b[0m\n\u001b[0;32m---> 32\u001b[0;31m         \u001b[0mjdf\u001b[0m \u001b[0;34m=\u001b[0m \u001b[0mgetattr\u001b[0m\u001b[0;34m(\u001b[0m\u001b[0mself\u001b[0m\u001b[0;34m.\u001b[0m\u001b[0m_jgd\u001b[0m\u001b[0;34m,\u001b[0m \u001b[0mname\u001b[0m\u001b[0;34m)\u001b[0m\u001b[0;34m(\u001b[0m\u001b[0;34m)\u001b[0m\u001b[0;34m\u001b[0m\u001b[0;34m\u001b[0m\u001b[0m\n\u001b[0m\u001b[1;32m     33\u001b[0m         \u001b[0;32mreturn\u001b[0m \u001b[0mDataFrame\u001b[0m\u001b[0;34m(\u001b[0m\u001b[0mjdf\u001b[0m\u001b[0;34m,\u001b[0m \u001b[0mself\u001b[0m\u001b[0;34m.\u001b[0m\u001b[0msql_ctx\u001b[0m\u001b[0;34m)\u001b[0m\u001b[0;34m\u001b[0m\u001b[0;34m\u001b[0m\u001b[0m\n\u001b[1;32m     34\u001b[0m     \u001b[0m_api\u001b[0m\u001b[0;34m.\u001b[0m\u001b[0m__name__\u001b[0m \u001b[0;34m=\u001b[0m \u001b[0mf\u001b[0m\u001b[0;34m.\u001b[0m\u001b[0m__name__\u001b[0m\u001b[0;34m\u001b[0m\u001b[0;34m\u001b[0m\u001b[0m\n",
            "\u001b[0;32m/content/spark-2.4.7-bin-hadoop2.7/python/lib/py4j-0.10.7-src.zip/py4j/java_gateway.py\u001b[0m in \u001b[0;36m__call__\u001b[0;34m(self, *args)\u001b[0m\n\u001b[1;32m   1255\u001b[0m         \u001b[0manswer\u001b[0m \u001b[0;34m=\u001b[0m \u001b[0mself\u001b[0m\u001b[0;34m.\u001b[0m\u001b[0mgateway_client\u001b[0m\u001b[0;34m.\u001b[0m\u001b[0msend_command\u001b[0m\u001b[0;34m(\u001b[0m\u001b[0mcommand\u001b[0m\u001b[0;34m)\u001b[0m\u001b[0;34m\u001b[0m\u001b[0;34m\u001b[0m\u001b[0m\n\u001b[1;32m   1256\u001b[0m         return_value = get_return_value(\n\u001b[0;32m-> 1257\u001b[0;31m             answer, self.gateway_client, self.target_id, self.name)\n\u001b[0m\u001b[1;32m   1258\u001b[0m \u001b[0;34m\u001b[0m\u001b[0m\n\u001b[1;32m   1259\u001b[0m         \u001b[0;32mfor\u001b[0m \u001b[0mtemp_arg\u001b[0m \u001b[0;32min\u001b[0m \u001b[0mtemp_args\u001b[0m\u001b[0;34m:\u001b[0m\u001b[0;34m\u001b[0m\u001b[0;34m\u001b[0m\u001b[0m\n",
            "\u001b[0;32m/content/spark-2.4.7-bin-hadoop2.7/python/pyspark/sql/utils.py\u001b[0m in \u001b[0;36mdeco\u001b[0;34m(*a, **kw)\u001b[0m\n\u001b[1;32m     67\u001b[0m                                              e.java_exception.getStackTrace()))\n\u001b[1;32m     68\u001b[0m             \u001b[0;32mif\u001b[0m \u001b[0ms\u001b[0m\u001b[0;34m.\u001b[0m\u001b[0mstartswith\u001b[0m\u001b[0;34m(\u001b[0m\u001b[0;34m'org.apache.spark.sql.AnalysisException: '\u001b[0m\u001b[0;34m)\u001b[0m\u001b[0;34m:\u001b[0m\u001b[0;34m\u001b[0m\u001b[0;34m\u001b[0m\u001b[0m\n\u001b[0;32m---> 69\u001b[0;31m                 \u001b[0;32mraise\u001b[0m \u001b[0mAnalysisException\u001b[0m\u001b[0;34m(\u001b[0m\u001b[0ms\u001b[0m\u001b[0;34m.\u001b[0m\u001b[0msplit\u001b[0m\u001b[0;34m(\u001b[0m\u001b[0;34m': '\u001b[0m\u001b[0;34m,\u001b[0m \u001b[0;36m1\u001b[0m\u001b[0;34m)\u001b[0m\u001b[0;34m[\u001b[0m\u001b[0;36m1\u001b[0m\u001b[0;34m]\u001b[0m\u001b[0;34m,\u001b[0m \u001b[0mstackTrace\u001b[0m\u001b[0;34m)\u001b[0m\u001b[0;34m\u001b[0m\u001b[0;34m\u001b[0m\u001b[0m\n\u001b[0m\u001b[1;32m     70\u001b[0m             \u001b[0;32mif\u001b[0m \u001b[0ms\u001b[0m\u001b[0;34m.\u001b[0m\u001b[0mstartswith\u001b[0m\u001b[0;34m(\u001b[0m\u001b[0;34m'org.apache.spark.sql.catalyst.analysis'\u001b[0m\u001b[0;34m)\u001b[0m\u001b[0;34m:\u001b[0m\u001b[0;34m\u001b[0m\u001b[0;34m\u001b[0m\u001b[0m\n\u001b[1;32m     71\u001b[0m                 \u001b[0;32mraise\u001b[0m \u001b[0mAnalysisException\u001b[0m\u001b[0;34m(\u001b[0m\u001b[0ms\u001b[0m\u001b[0;34m.\u001b[0m\u001b[0msplit\u001b[0m\u001b[0;34m(\u001b[0m\u001b[0;34m': '\u001b[0m\u001b[0;34m,\u001b[0m \u001b[0;36m1\u001b[0m\u001b[0;34m)\u001b[0m\u001b[0;34m[\u001b[0m\u001b[0;36m1\u001b[0m\u001b[0;34m]\u001b[0m\u001b[0;34m,\u001b[0m \u001b[0mstackTrace\u001b[0m\u001b[0;34m)\u001b[0m\u001b[0;34m\u001b[0m\u001b[0;34m\u001b[0m\u001b[0m\n",
            "\u001b[0;31mAnalysisException\u001b[0m: \"cannot resolve '`recorded_by`' given input columns: [quantity_group, quantity, gps_height, id, public_meeting, payment_type, source_type, water_quality, district_code, source_class, subvillage, source, region_code, management, installer, funder, date_recorded, waterpoint_type_group, latitude, extraction_type_group, basin, lga, extraction_type, construction_year, quality_group, status_group, num_private, permit, waterpoint_type, management_group, wpt_name, payment, region, scheme_management, extraction_type_class, longitude, ward, population, amount_tsh];;\\n'Aggregate ['recorded_by], ['recorded_by, count(1) AS count#24116L]\\n+- Project [id#10, amount_tsh#11, date_recorded#12, funder#20967, gps_height#14, installer#21297, longitude#16, latitude#17, wpt_name#21627, num_private#19, basin#21957, subvillage#22287, region#22617, region_code#22947, district_code#23277, lga#23607, CASE WHEN ward#2221 IN (Kibingo,Shinghatini,Luchili,Ukune,Chiponda,Lusahunga,Kitura,Soni,Nyanguge,Mlowo,Lilambo,Kongolo,Masumbwe,Mngazi,Makata,Muhukuru,Saunyi,Manyoni,Tumbi,Segala,Igalula,Nkololo,Ovada,Moivo,Segera,Bashinet,Mhande,Nalasi,Murusagamba,Ubiri,Kalunde,Luswisi,Makurugusi,Sumbugu,Gendabi,Mtekente,Umwe,Ufana,Selela,Mtombozi,Lalago,Ludende,Ruhunga,Irole,Nkoanrua,Nanhyanga,Kate,Ifumbo,Itaba,Litembo,Mpondo,Ibumi,Kazunzu,Chilangala,Ilujamate,Chinugulu,Mandawa,Maramba,Ihowanza,Boma la ng'ombe,Nyamilama,Nandembo,Nakapanya,Kipanga,Mamba Kaskazini,Isagenhe,Msalato,Iringa Mv..."
          ]
        }
      ]
    },
    {
      "cell_type": "code",
      "metadata": {
        "colab": {
          "base_uri": "https://localhost:8080/"
        },
        "id": "DXBTeW-lM2Sd",
        "outputId": "9cea1f75-699b-4b7a-e0a9-8dde5ab93625"
      },
      "source": [
        "data.groupBy('population').count().orderBy('population').show()"
      ],
      "execution_count": 95,
      "outputs": [
        {
          "output_type": "stream",
          "text": [
            "+----------+-----+\n",
            "|population|count|\n",
            "+----------+-----+\n",
            "|       2.0|    4|\n",
            "|       3.0|    4|\n",
            "|       4.0|   13|\n",
            "|       5.0|   44|\n",
            "|       6.0|   19|\n",
            "|       7.0|    3|\n",
            "|       8.0|   23|\n",
            "|       9.0|   11|\n",
            "|      10.0|  163|\n",
            "|      11.0|    7|\n",
            "|      12.0|   43|\n",
            "|      13.0|   12|\n",
            "|      14.0|   18|\n",
            "|      15.0|  193|\n",
            "|      16.0|    8|\n",
            "|      17.0|    6|\n",
            "|      18.0|   18|\n",
            "|      19.0|    3|\n",
            "|      20.0|  462|\n",
            "|      21.0|    3|\n",
            "+----------+-----+\n",
            "only showing top 20 rows\n",
            "\n"
          ],
          "name": "stdout"
        }
      ]
    },
    {
      "cell_type": "code",
      "metadata": {
        "colab": {
          "base_uri": "https://localhost:8080/"
        },
        "id": "x4Wg-h2Lx-kE",
        "outputId": "d0d0df56-72d1-425c-917e-64842383ea1e"
      },
      "source": [
        "data = data.withColumn('population', when(col('population')<2, lit(None)).otherwise(col('population')))\n",
        "w = Window.partitionBy(data['district_code'])\n",
        "data = data.withColumn('population', when(col('population').isNull(), avg(data['population']).over(w)).otherwise(col('population')))\n",
        "data = data.withColumn('population', ceil(data['population']))\n",
        "data.groupBy('population').count().orderBy('population').show()"
      ],
      "execution_count": 97,
      "outputs": [
        {
          "output_type": "stream",
          "text": [
            "+----------+-----+\n",
            "|population|count|\n",
            "+----------+-----+\n",
            "|         2|    4|\n",
            "|         3|    4|\n",
            "|         4|   13|\n",
            "|         5|   44|\n",
            "|         6|   19|\n",
            "|         7|    3|\n",
            "|         8|   23|\n",
            "|         9|   11|\n",
            "|        10|  163|\n",
            "|        11|    7|\n",
            "|        12|   43|\n",
            "|        13|   12|\n",
            "|        14|   18|\n",
            "|        15|  193|\n",
            "|        16|    8|\n",
            "|        17|    6|\n",
            "|        18|   18|\n",
            "|        19|    3|\n",
            "|        20|  462|\n",
            "|        21|    3|\n",
            "+----------+-----+\n",
            "only showing top 20 rows\n",
            "\n"
          ],
          "name": "stdout"
        }
      ]
    },
    {
      "cell_type": "code",
      "metadata": {
        "id": "DuUSjKOd4nGX"
      },
      "source": [
        ""
      ],
      "execution_count": null,
      "outputs": []
    },
    {
      "cell_type": "markdown",
      "metadata": {
        "id": "xLHuYRDSHVPr"
      },
      "source": [
        "Task 6 - Make visualizations. If you are disconnected, please run the previous cells by clicking on this cell, going to Runtime, then clicking Run before."
      ]
    },
    {
      "cell_type": "code",
      "metadata": {
        "id": "X4FzfDkHXp_w"
      },
      "source": [
        ""
      ],
      "execution_count": 111,
      "outputs": []
    },
    {
      "cell_type": "code",
      "metadata": {
        "id": "FHnj1SGvHnjt"
      },
      "source": [
        "color_status = {'functional': 'green', 'non functional': 'red', 'functional needs repair': 'blue'}"
      ],
      "execution_count": 120,
      "outputs": []
    },
    {
      "cell_type": "code",
      "metadata": {
        "id": "12legEn-1bwG"
      },
      "source": [
        "cols = ['status_group','payment_type', 'longitude','latitude', 'gps_height']"
      ],
      "execution_count": 121,
      "outputs": []
    },
    {
      "cell_type": "code",
      "metadata": {
        "id": "Cii44bJF1iKR"
      },
      "source": [
        "df= data.select(cols).toPandas()"
      ],
      "execution_count": 122,
      "outputs": []
    },
    {
      "cell_type": "code",
      "metadata": {
        "colab": {
          "base_uri": "https://localhost:8080/",
          "height": 548
        },
        "id": "dq2Ewtj81lZr",
        "outputId": "83681695-8c5e-47ee-ae0b-1ffd19ca2156"
      },
      "source": [
        "fig, ax = plt.subplots(figsize=(12,8))\n",
        "sns.countplot(x='payment_type',hue='status_group',data=df, ax=ax,palette=color_status)\n",
        "plt.xticks(rotation=45)\n"
      ],
      "execution_count": 125,
      "outputs": [
        {
          "output_type": "execute_result",
          "data": {
            "text/plain": [
              "(array([0, 1, 2, 3, 4, 5, 6]), <a list of 7 Text major ticklabel objects>)"
            ]
          },
          "metadata": {
            "tags": []
          },
          "execution_count": 125
        },
        {
          "output_type": "display_data",
          "data": {
            "image/png": "[encoded data removed]",
            "text/plain": [
              "<Figure size 864x576 with 1 Axes>"
            ]
          },
          "metadata": {
            "tags": [],
            "needs_background": "light"
          }
        }
      ]
    },
    {
      "cell_type": "code",
      "metadata": {
        "colab": {
          "base_uri": "https://localhost:8080/",
          "height": 513
        },
        "id": "oeg1BosVZHYr",
        "outputId": "27681601-9807-42f4-9769-d99435ece75b"
      },
      "source": [
        "fig, ax = plt.subplots(figsize=(12,8))\n",
        "sns.scatterplot(x='longitude', y='latitude', data=df, hue='status_group', ax=ax, palette=color_status)"
      ],
      "execution_count": 129,
      "outputs": [
        {
          "output_type": "execute_result",
          "data": {
            "text/plain": [
              "<matplotlib.axes._subplots.AxesSubplot at 0x7fcfe5accb00>"
            ]
          },
          "metadata": {
            "tags": []
          },
          "execution_count": 129
        },
        {
          "output_type": "display_data",
          "data": {
            "image/png": "[encoded data removed]",
            "text/plain": [
              "<Figure size 864x576 with 1 Axes>"
            ]
          },
          "metadata": {
            "tags": [],
            "needs_background": "light"
          }
        }
      ]
    },
    {
      "cell_type": "code",
      "metadata": {
        "colab": {
          "base_uri": "https://localhost:8080/",
          "height": 632
        },
        "id": "SKT44Mh61nmE",
        "outputId": "a7d4ab13-cd66-4f6b-c4b9-76ec59c8bffb"
      },
      "source": [
        "row_functional=(df['status_group']=='functional')\n",
        "row_non_functional=(df['status_group']=='functional needs repair')\n",
        "row_repair=(df['status_group']=='non functional')\n",
        "col = 'gps_height'\n",
        "fig, ax = plt.subplots(figsize=(12,8))\n",
        "sns.distplot(df[col][row_functional], color='green', label='functional', ax=ax)\n",
        "sns.distplot(df[col][row_non_functional],color='red',label='non_functional', ax=ax)\n",
        "sns.distplot(df[col][row_repair], color='blue', label='functional needs repair', ax=ax)\n",
        "plt.legend()"
      ],
      "execution_count": 150,
      "outputs": [
        {
          "output_type": "stream",
          "text": [
            "/usr/local/lib/python3.6/dist-packages/seaborn/distributions.py:2551: FutureWarning: `distplot` is a deprecated function and will be removed in a future version. Please adapt your code to use either `displot` (a figure-level function with similar flexibility) or `histplot` (an axes-level function for histograms).\n",
            "  warnings.warn(msg, FutureWarning)\n",
            "/usr/local/lib/python3.6/dist-packages/seaborn/distributions.py:2551: FutureWarning: `distplot` is a deprecated function and will be removed in a future version. Please adapt your code to use either `displot` (a figure-level function with similar flexibility) or `histplot` (an axes-level function for histograms).\n",
            "  warnings.warn(msg, FutureWarning)\n",
            "/usr/local/lib/python3.6/dist-packages/seaborn/distributions.py:2551: FutureWarning: `distplot` is a deprecated function and will be removed in a future version. Please adapt your code to use either `displot` (a figure-level function with similar flexibility) or `histplot` (an axes-level function for histograms).\n",
            "  warnings.warn(msg, FutureWarning)\n"
          ],
          "name": "stderr"
        },
        {
          "output_type": "execute_result",
          "data": {
            "text/plain": [
              "<matplotlib.legend.Legend at 0x7fcfe5c360b8>"
            ]
          },
          "metadata": {
            "tags": []
          },
          "execution_count": 150
        },
        {
          "output_type": "display_data",
          "data": {
            "image/png": "[encoded data removed]",
            "text/plain": [
              "<Figure size 864x576 with 1 Axes>"
            ]
          },
          "metadata": {
            "tags": [],
            "needs_background": "light"
          }
        }
      ]
    },
    {
      "cell_type": "code",
      "metadata": {
        "colab": {
          "base_uri": "https://localhost:8080/"
        },
        "id": "jnJk_rR8Eox4",
        "outputId": "d368a68f-e307-4c9e-ad2d-5cb293fef4cf"
      },
      "source": [
        "data.groupBy(col).count().orderBy(col).show()"
      ],
      "execution_count": 151,
      "outputs": [
        {
          "output_type": "stream",
          "text": [
            "+----------+-----+\n",
            "|gps_height|count|\n",
            "+----------+-----+\n",
            "|       -90|    1|\n",
            "|       -63|    2|\n",
            "|       -59|    1|\n",
            "|       -57|    1|\n",
            "|       -55|    1|\n",
            "|       -54|    1|\n",
            "|       -53|    1|\n",
            "|       -52|    2|\n",
            "|       -51|    2|\n",
            "|       -50|    5|\n",
            "|       -49|    4|\n",
            "|       -48|    6|\n",
            "|       -47|    8|\n",
            "|       -46|    6|\n",
            "|       -45|    9|\n",
            "|       -44|    6|\n",
            "|       -43|   11|\n",
            "|       -42|   13|\n",
            "|       -41|   11|\n",
            "|       -40|   26|\n",
            "+----------+-----+\n",
            "only showing top 20 rows\n",
            "\n"
          ],
          "name": "stdout"
        }
      ]
    }
  ]
}