{
  "nbformat": 4,
  "nbformat_minor": 0,
  "metadata": {
    "colab": {
      "name": "code_empty.ipynb",
      "provenance": [],
      "collapsed_sections": [],
      "include_colab_link": true
    },
    "kernelspec": {
      "display_name": "Python 3",
      "language": "python",
      "name": "python3"
    },
    "language_info": {
      "codemirror_mode": {
        "name": "ipython",
        "version": 3
      },
      "file_extension": ".py",
      "mimetype": "text/x-python",
      "name": "python",
      "nbconvert_exporter": "python",
      "pygments_lexer": "ipython3",
      "version": "3.6.9"
    }
  },
  "cells": [
    {
      "cell_type": "markdown",
      "metadata": {
        "id": "view-in-github",
        "colab_type": "text"
      },
      "source": [
        "<a href=\"https://colab.research.google.com/github/sukuzhanay/PySpark-and-BigData-Exploring-a-huge-dataset/blob/main/code_empty.ipynb\" target=\"_parent\"><img src=\"https://colab.research.google.com/assets/colab-badge.svg\" alt=\"Open In Colab\"/></a>"
      ]
    },
    {
      "cell_type": "markdown",
      "metadata": {
        "id": "fF7880IdeNqc"
      },
      "source": [
        "Task 1 - Install Spark, download datasets, create final dataframe. If you get an error regarding tar or wget, it is probably due to the Spark file being removed from the repository. Go to https://downloads.apache.org/spark/ and choose an equivalent version of Spark and Hadoop to download. So if 2.4.7 is not available, download the next version. At the time of this project creation, 2.4.7 exists."
      ]
    },
    {
      "cell_type": "code",
      "metadata": {
        "id": "c1VovUiDZ4kA"
      },
      "source": [
        "!apt-get install openjdk-8-jdk-headless -qq > /dev/null\n",
        "!wget -q https://downloads.apache.org/spark/spark-2.4.7/spark-2.4.7-bin-hadoop2.7.tgz\n",
        "!tar xf spark-2.4.7-bin-hadoop2.7.tgz\n",
        "!pip install -q findspark"
      ],
      "execution_count": 1,
      "outputs": []
    },
    {
      "cell_type": "code",
      "metadata": {
        "id": "suFqUNKDaFeo"
      },
      "source": [
        "import os\n",
        "os.environ[\"JAVA_HOME\"] = \"/usr/lib/jvm/java-8-openjdk-amd64\"\n",
        "os.environ[\"SPARK_HOME\"] = \"/content/spark-2.4.7-bin-hadoop2.7\"\n",
        "import findspark\n",
        "findspark.init()\n",
        "from google.colab import files\n",
        "from pyspark.sql import SparkSession, Window\n",
        "from pyspark.sql.functions import isnan, when, count, col, lit, trim, avg, ceil\n",
        "from pyspark.sql.types import StringType\n",
        "import matplotlib.pyplot as plt\n",
        "import pandas as pd\n",
        "import seaborn as sns"
      ],
      "execution_count": 11,
      "outputs": []
    },
    {
      "cell_type": "code",
      "metadata": {
        "colab": {
          "base_uri": "https://localhost:8080/"
        },
        "id": "2SfpwheFZDUe",
        "outputId": "f4869bda-6d92-4994-8aa6-1b1e9bd0d66d"
      },
      "source": [
        "!wget https://s3.amazonaws.com/drivendata/data/7/public/4910797b-ee55-40a7-8668-10efd5c1b960.csv -O features.csv\n",
        "!wget https://s3.amazonaws.com/drivendata/data/7/public/0bf8bc6e-30d0-4c50-956a-603fc693d966.csv -O labels.csv"
      ],
      "execution_count": 6,
      "outputs": [
        {
          "output_type": "stream",
          "text": [
            "--2020-12-20 20:00:50--  https://s3.amazonaws.com/drivendata/data/7/public/4910797b-ee55-40a7-8668-10efd5c1b960.csv\n",
            "Resolving s3.amazonaws.com (s3.amazonaws.com)... 52.217.43.70\n",
            "Connecting to s3.amazonaws.com (s3.amazonaws.com)|52.217.43.70|:443... connected.\n",
            "HTTP request sent, awaiting response... 200 OK\n",
            "Length: 20069199 (19M) [text/csv]\n",
            "Saving to: ‘features.csv’\n",
            "\n",
            "features.csv        100%[===================>]  19.14M  17.2MB/s    in 1.1s    \n",
            "\n",
            "2020-12-20 20:00:52 (17.2 MB/s) - ‘features.csv’ saved [20069199/20069199]\n",
            "\n",
            "--2020-12-20 20:00:52--  https://s3.amazonaws.com/drivendata/data/7/public/0bf8bc6e-30d0-4c50-956a-603fc693d966.csv\n",
            "Resolving s3.amazonaws.com (s3.amazonaws.com)... 52.216.230.213\n",
            "Connecting to s3.amazonaws.com (s3.amazonaws.com)|52.216.230.213|:443... connected.\n",
            "HTTP request sent, awaiting response... 200 OK\n",
            "Length: 1148327 (1.1M) [text/csv]\n",
            "Saving to: ‘labels.csv’\n",
            "\n",
            "labels.csv          100%[===================>]   1.09M  2.12MB/s    in 0.5s    \n",
            "\n",
            "2020-12-20 20:00:53 (2.12 MB/s) - ‘labels.csv’ saved [1148327/1148327]\n",
            "\n"
          ],
          "name": "stdout"
        }
      ]
    },
    {
      "cell_type": "code",
      "metadata": {
        "colab": {
          "base_uri": "https://localhost:8080/"
        },
        "id": "lHYWxV7aZN3K",
        "outputId": "c106ec8a-e0f4-496e-ea1e-ffdb033415ba"
      },
      "source": [
        "!less labels.csv\n",
        "\n"
      ],
      "execution_count": 10,
      "outputs": [
        {
          "output_type": "stream",
          "text": [
            "\u001b7\u001b[?47h\u001b[?1h\u001b=\rid,status_group\r\n",
            "69572,functional\r\n",
            "8776,functional\r\n",
            "34310,functional\r\n",
            "67743,non functional\r\n",
            "19728,functional\r\n",
            "9944,functional\r\n",
            "19816,non functional\r\n",
            "54551,non functional\r\n",
            "53934,non functional\r\n",
            "46144,functional\r\n",
            "49056,functional\r\n",
            "50409,functional\r\n",
            "36957,functional\r\n",
            "50495,functional\r\n",
            "53752,functional\r\n",
            "61848,functional\r\n",
            "48451,non functional\r\n",
            "58155,non functional\r\n",
            "34169,functional needs repair\r\n",
            "18274,functional\r\n",
            "48375,functional\r\n",
            "6091,functional\n",
            "\u001b[K:\u001b[K^C\n"
          ],
          "name": "stdout"
        }
      ]
    },
    {
      "cell_type": "code",
      "metadata": {
        "id": "osbsUikPadRq"
      },
      "source": [
        "!less features.csv\n"
      ],
      "execution_count": null,
      "outputs": []
    },
    {
      "cell_type": "code",
      "metadata": {
        "colab": {
          "base_uri": "https://localhost:8080/"
        },
        "id": "gLQBjPaxcC3B",
        "outputId": "a76189ea-0a51-485e-d492-dd6af05a00d9"
      },
      "source": [
        "!ls \n"
      ],
      "execution_count": 9,
      "outputs": [
        {
          "output_type": "stream",
          "text": [
            "features.csv  sample_data\t\t spark-2.4.7-bin-hadoop2.7.tgz\n",
            "labels.csv    spark-2.4.7-bin-hadoop2.7\n"
          ],
          "name": "stdout"
        }
      ]
    },
    {
      "cell_type": "code",
      "metadata": {
        "id": "MNuh106fc2QD"
      },
      "source": [
        "sc = SparkSession.builder.master(\"local[*]\").getOrCreate()"
      ],
      "execution_count": 12,
      "outputs": []
    },
    {
      "cell_type": "code",
      "metadata": {
        "id": "rIJrNHJUcPSf"
      },
      "source": [
        "feature = sc.read.csv(\"features.csv\", inferSchema=True, header=True)"
      ],
      "execution_count": 13,
      "outputs": []
    },
    {
      "cell_type": "markdown",
      "metadata": {
        "id": "hnsaioREeIOJ"
      },
      "source": [
        "Task 2 - Change column type, drop duplicated rows, remove whitespacs. If you are disconnected, please run the previous cells by clicking on this cell, going to Runtime, then clicking Run before."
      ]
    },
    {
      "cell_type": "code",
      "metadata": {
        "id": "2XcgZ9FT7f-G"
      },
      "source": [
        "label = sc.read.csv(\"labels.csv\", inferSchema=True, header=True)"
      ],
      "execution_count": 14,
      "outputs": []
    },
    {
      "cell_type": "code",
      "metadata": {
        "colab": {
          "base_uri": "https://localhost:8080/"
        },
        "id": "Hiz2yMf27fla",
        "outputId": "a693e088-1297-47a9-c898-5b7ae5017166"
      },
      "source": [
        "print(feature.count())\n"
      ],
      "execution_count": 16,
      "outputs": [
        {
          "output_type": "stream",
          "text": [
            "59400\n"
          ],
          "name": "stdout"
        }
      ]
    },
    {
      "cell_type": "code",
      "metadata": {
        "colab": {
          "base_uri": "https://localhost:8080/"
        },
        "id": "qLDXbAsx_53W",
        "outputId": "035e8ee2-a724-46f8-c369-19ef777bb434"
      },
      "source": [
        "print(label.count())"
      ],
      "execution_count": 17,
      "outputs": [
        {
          "output_type": "stream",
          "text": [
            "59400\n"
          ],
          "name": "stdout"
        }
      ]
    },
    {
      "cell_type": "code",
      "metadata": {
        "colab": {
          "base_uri": "https://localhost:8080/"
        },
        "id": "L5dRfsxh7fMn",
        "outputId": "d341346a-5333-4a27-cf43-e788abc15906"
      },
      "source": [
        "print(feature.columns)"
      ],
      "execution_count": 19,
      "outputs": [
        {
          "output_type": "stream",
          "text": [
            "['id', 'amount_tsh', 'date_recorded', 'funder', 'gps_height', 'installer', 'longitude', 'latitude', 'wpt_name', 'num_private', 'basin', 'subvillage', 'region', 'region_code', 'district_code', 'lga', 'ward', 'population', 'public_meeting', 'recorded_by', 'scheme_management', 'scheme_name', 'permit', 'construction_year', 'extraction_type', 'extraction_type_group', 'extraction_type_class', 'management', 'management_group', 'payment', 'payment_type', 'water_quality', 'quality_group', 'quantity', 'quantity_group', 'source', 'source_type', 'source_class', 'waterpoint_type', 'waterpoint_type_group']\n"
          ],
          "name": "stdout"
        }
      ]
    },
    {
      "cell_type": "code",
      "metadata": {
        "colab": {
          "base_uri": "https://localhost:8080/"
        },
        "id": "EcfYuB-ru9G9",
        "outputId": "98569127-defd-42f1-d65e-d0b229fb5c85"
      },
      "source": [
        "print(label.columns)"
      ],
      "execution_count": 20,
      "outputs": [
        {
          "output_type": "stream",
          "text": [
            "['id', 'status_group']\n"
          ],
          "name": "stdout"
        }
      ]
    },
    {
      "cell_type": "code",
      "metadata": {
        "id": "SGdEdHici0Zq"
      },
      "source": [
        "data = feature.join(label, on=(\"id\"))"
      ],
      "execution_count": 21,
      "outputs": []
    },
    {
      "cell_type": "code",
      "metadata": {
        "colab": {
          "base_uri": "https://localhost:8080/"
        },
        "id": "Q135E7kjqJqk",
        "outputId": "85854c40-26b5-4b3d-fb88-e294342ca5df"
      },
      "source": [
        "print(data.count())"
      ],
      "execution_count": 22,
      "outputs": [
        {
          "output_type": "stream",
          "text": [
            "59400\n"
          ],
          "name": "stdout"
        }
      ]
    },
    {
      "cell_type": "code",
      "metadata": {
        "colab": {
          "base_uri": "https://localhost:8080/"
        },
        "id": "POIFn8i025xL",
        "outputId": "8ede1de9-699d-4503-d86d-318d0f1cd360"
      },
      "source": [
        "print(data.show())"
      ],
      "execution_count": 28,
      "outputs": [
        {
          "output_type": "stream",
          "text": [
            "+-----+----------+-------------------+--------------------+----------+--------------------+-----------+-------------------+--------------------+-----------+--------------------+---------------+-----------+-----------+-------------+----------------+--------------+----------+--------------+--------------------+-----------------+--------------------+------+-----------------+---------------+---------------------+---------------------+----------------+----------------+--------------------+------------+-------------+-------------+------------+--------------+--------------------+--------------------+------------+--------------------+---------------------+--------------------+\n",
            "|   id|amount_tsh|      date_recorded|              funder|gps_height|           installer|  longitude|           latitude|            wpt_name|num_private|               basin|     subvillage|     region|region_code|district_code|             lga|          ward|population|public_meeting|         recorded_by|scheme_management|         scheme_name|permit|construction_year|extraction_type|extraction_type_group|extraction_type_class|      management|management_group|             payment|payment_type|water_quality|quality_group|    quantity|quantity_group|              source|         source_type|source_class|     waterpoint_type|waterpoint_type_group|        status_group|\n",
            "+-----+----------+-------------------+--------------------+----------+--------------------+-----------+-------------------+--------------------+-----------+--------------------+---------------+-----------+-----------+-------------+----------------+--------------+----------+--------------+--------------------+-----------------+--------------------+------+-----------------+---------------+---------------------+---------------------+----------------+----------------+--------------------+------------+-------------+-------------+------------+--------------+--------------------+--------------------+------------+--------------------+---------------------+--------------------+\n",
            "|69572|    6000.0|2011-03-14 00:00:00|               Roman|      1390|               Roman|34.93809275|        -9.85632177|                none|          0|          Lake Nyasa|       Mnyusi B|     Iringa|         11|            5|          Ludewa|      Mundindi|       109|          true|GeoData Consultan...|              VWC|               Roman| false|             1999|        gravity|              gravity|              gravity|             vwc|      user-group|        pay annually|    annually|         soft|         good|      enough|        enough|              spring|              spring| groundwater|  communal standpipe|   communal standpipe|          functional|\n",
            "| 8776|       0.0|2013-03-06 00:00:00|             Grumeti|      1399|             GRUMETI| 34.6987661|        -2.14746569|            Zahanati|          0|       Lake Victoria|        Nyamara|       Mara|         20|            2|       Serengeti|         Natta|       280|          null|GeoData Consultan...|            Other|                null|  true|             2010|        gravity|              gravity|              gravity|             wug|      user-group|           never pay|   never pay|         soft|         good|insufficient|  insufficient|rainwater harvesting|rainwater harvesting|     surface|  communal standpipe|   communal standpipe|          functional|\n",
            "|34310|      25.0|2013-02-25 00:00:00|        Lottery Club|       686|        World vision|37.46066446|        -3.82132853|         Kwa Mahundi|          0|             Pangani|        Majengo|    Manyara|         21|            4|       Simanjiro|       Ngorika|       250|          true|GeoData Consultan...|              VWC|Nyumba ya mungu p...|  true|             2009|        gravity|              gravity|              gravity|             vwc|      user-group|      pay per bucket|  per bucket|         soft|         good|      enough|        enough|                 dam|                 dam|     surface|communal standpip...|   communal standpipe|          functional|\n",
            "|67743|       0.0|2013-01-28 00:00:00|              Unicef|       263|              UNICEF|38.48616088|       -11.15529772|Zahanati Ya Nanyumbu|          0|Ruvuma / Southern...|     Mahakamani|     Mtwara|         90|           63|        Nanyumbu|      Nanyumbu|        58|          true|GeoData Consultan...|              VWC|                null|  true|             1986|    submersible|          submersible|          submersible|             vwc|      user-group|           never pay|   never pay|         soft|         good|         dry|           dry|         machine dbh|            borehole| groundwater|communal standpip...|   communal standpipe|      non functional|\n",
            "|19728|       0.0|2011-07-13 00:00:00|         Action In A|         0|             Artisan|31.13084671|        -1.82535885|             Shuleni|          0|       Lake Victoria|     Kyanyamisa|     Kagera|         18|            1|         Karagwe|    Nyakasimbi|         0|          true|GeoData Consultan...|             null|                null|  true|                0|        gravity|              gravity|              gravity|           other|           other|           never pay|   never pay|         soft|         good|    seasonal|      seasonal|rainwater harvesting|rainwater harvesting|     surface|  communal standpipe|   communal standpipe|          functional|\n",
            "| 9944|      20.0|2011-03-13 00:00:00| Mkinga Distric Coun|         0|                 DWE| 39.1727956|        -4.76558728|              Tajiri|          0|             Pangani|    Moa/Mwereme|      Tanga|          4|            8|          Mkinga|           Moa|         1|          true|GeoData Consultan...|              VWC|           Zingibali|  true|             2009|    submersible|          submersible|          submersible|             vwc|      user-group|      pay per bucket|  per bucket|        salty|        salty|      enough|        enough|               other|               other|     unknown|communal standpip...|   communal standpipe|          functional|\n",
            "|19816|       0.0|2012-10-01 00:00:00|                Dwsp|         0|                DWSP|33.36240982|        -3.76636472|          Kwa Ngomho|          0|            Internal|  Ishinabulandi|  Shinyanga|         17|            3| Shinyanga Rural|        Samuye|         0|          true|GeoData Consultan...|              VWC|                null|  true|                0|         swn 80|               swn 80|             handpump|             vwc|      user-group|           never pay|   never pay|         soft|         good|      enough|        enough|         machine dbh|            borehole| groundwater|           hand pump|            hand pump|      non functional|\n",
            "|54551|       0.0|2012-10-09 00:00:00|               Rwssp|         0|                 DWE|32.62061707|        -4.22619802|        Tushirikiane|          0|     Lake Tanganyika|Nyawishi Center|  Shinyanga|         17|            3|          Kahama|        Chambo|         0|          true|GeoData Consultan...|             null|                null|  true|                0|    nira/tanira|          nira/tanira|             handpump|             wug|      user-group|             unknown|     unknown|        milky|        milky|      enough|        enough|        shallow well|        shallow well| groundwater|           hand pump|            hand pump|      non functional|\n",
            "|53934|       0.0|2012-11-03 00:00:00|            Wateraid|         0|           Water Aid|32.71110001|        -5.14671181|   Kwa Ramadhan Musa|          0|     Lake Tanganyika|     Imalauduki|     Tabora|         14|            6|    Tabora Urban|      Itetemia|         0|          true|GeoData Consultan...|              VWC|                null|  true|                0|  india mark ii|        india mark ii|             handpump|             vwc|      user-group|           never pay|   never pay|        salty|        salty|    seasonal|      seasonal|         machine dbh|            borehole| groundwater|           hand pump|            hand pump|      non functional|\n",
            "|46144|       0.0|2011-08-03 00:00:00|         Isingiro Ho|         0|             Artisan|30.62699053|        -1.25705061|             Kwapeto|          0|       Lake Victoria|       Mkonomre|     Kagera|         18|            1|         Karagwe|        Kaisho|         0|          true|GeoData Consultan...|             null|                null|  true|                0|    nira/tanira|          nira/tanira|             handpump|             vwc|      user-group|           never pay|   never pay|         soft|         good|      enough|        enough|        shallow well|        shallow well| groundwater|           hand pump|            hand pump|          functional|\n",
            "|49056|       0.0|2011-02-20 00:00:00|             Private|        62|             Private|39.20951812|        -7.03413939|       Mzee Hokororo|          0|         Wami / Ruvu|         Mizugo|      Pwani|         60|           43|        Mkuranga|       Tambani|       345|          true|GeoData Consultan...| Private operator|                null| false|             2011|    submersible|          submersible|          submersible|private operator|      commercial|           never pay|   never pay|        salty|        salty|      enough|        enough|         machine dbh|            borehole| groundwater|               other|                other|          functional|\n",
            "|50409|     200.0|2013-02-18 00:00:00|              Danida|      1062|              DANIDA|35.77025785|       -10.57417468|    Kwa Alid Nchimbi|          0|          Lake Nyasa|   Ngondombwito|     Ruvuma|         10|            5|        Namtumbo|        Msindo|       250|          true|GeoData Consultan...|              WUG|                null| false|             1987|         swn 80|               swn 80|             handpump|             wug|      user-group|pay when scheme f...|  on failure|         soft|         good|insufficient|  insufficient|        shallow well|        shallow well| groundwater|           hand pump|            hand pump|          functional|\n",
            "|36957|       0.0|2012-10-14 00:00:00|        World Vision|         0|        World vision|33.79810612|-3.2901937999999995|               Pamba|          0|            Internal|        Nkilifa|  Shinyanga|         17|            2|           Maswa|      Busilili|         0|          true|GeoData Consultan...|              WUG|                null| false|                0|    nira/tanira|          nira/tanira|             handpump|             wug|      user-group|               other|       other|         soft|         good|      enough|        enough|        shallow well|        shallow well| groundwater|           hand pump|            hand pump|          functional|\n",
            "|50495|       0.0|2013-03-15 00:00:00|Lawatefuka Water ...|      1368|Lawatefuka water sup|37.09257412|-3.1817832999999998|Kwa John Izack Mmari|          0|             Pangani|        Omarini|Kilimanjaro|          3|            7|            Siha|Siha Kaskazini|         1|          true|GeoData Consultan...|      Water Board|          BL Bondeni|  true|             2009|        gravity|              gravity|              gravity|     water board|      user-group|         pay monthly|     monthly|         soft|         good|      enough|        enough|              spring|              spring| groundwater|  communal standpipe|   communal standpipe|          functional|\n",
            "|53752|       0.0|2012-10-20 00:00:00|               Biore|         0|              WEDECO|34.36407268|        -3.62933335|           Mwabasabi|          0|            Internal|      Mwabasabi|  Shinyanga|         17|            6|           Meatu|         Nkoma|         0|          true|GeoData Consultan...|              WUG|                None|  true|                0|    nira/tanira|          nira/tanira|             handpump|             wug|      user-group|           never pay|   never pay|         soft|         good|      enough|        enough|        shallow well|        shallow well| groundwater|           hand pump|            hand pump|          functional|\n",
            "|61848|       0.0|2011-08-04 00:00:00|               Rudep|      1645|                 DWE|31.44412134|        -8.27496163|Kwa Juvenal Ching...|          0|     Lake Tanganyika|          Tunzi|      Rukwa|         15|            2|Sumbawanga Rural|         Mkowe|       200|          true|GeoData Consultan...|              VWC|                null| false|             1991|         swn 80|               swn 80|             handpump|             vwc|      user-group|           never pay|   never pay|         soft|         good|      enough|        enough|         machine dbh|            borehole| groundwater|           hand pump|            hand pump|          functional|\n",
            "|48451|     500.0|2011-07-04 00:00:00|              Unicef|      1703|                 DWE|34.64243884|        -9.10618458|     Kwa John Mtenzi|          0|              Rufiji|       Kidudumo|     Iringa|         11|            4|          Njombe|        Mdandu|        35|          true|GeoData Consultan...|              WUA|wanging'ombe wate...|  true|             1978|        gravity|              gravity|              gravity|             wua|      user-group|         pay monthly|     monthly|         soft|         good|         dry|           dry|               river|          river/lake|     surface|  communal standpipe|   communal standpipe|      non functional|\n",
            "|58155|       0.0|2011-09-04 00:00:00|              Unicef|      1656|                 DWE|34.56926611|        -9.08551497|     Kwa Rose Chaula|          0|              Rufiji|         Yeriko|     Iringa|         11|            4|          Njombe|         Usuka|        50|          true|GeoData Consultan...|              WUA|wanging'ombe wate...|  true|             1978|        gravity|              gravity|              gravity|             wua|      user-group|pay when scheme f...|  on failure|         soft|         good|         dry|           dry|               river|          river/lake|     surface|  communal standpipe|   communal standpipe|      non functional|\n",
            "|34169|       0.0|2011-07-22 00:00:00|              Hesawa|      1162|                 DWE|32.92015381|        -1.94786801|              Ngomee|          0|       Lake Victoria|         Center|     Mwanza|         19|            1|         Ukerewe|      Ilangala|      1000|          null|GeoData Consultan...|             null|                null|  true|             1999|          other|                other|                other|             vwc|      user-group|           never pay|   never pay|        milky|        milky|insufficient|  insufficient|              spring|              spring| groundwater|               other|                other|functional needs ...|\n",
            "|18274|     500.0|2011-02-22 00:00:00|              Danida|      1763|               Danid|34.50896732|         -9.8944125|                none|          0|          Lake Nyasa|       Manyanya|     Iringa|         11|            5|          Ludewa|       Mawengi|         1|          true|GeoData Consultan...|              VWC|              Makanj|  true|             1992|        gravity|              gravity|              gravity|             vwc|      user-group|        pay annually|    annually|         soft|         good|      enough|        enough|              spring|              spring| groundwater|  communal standpipe|   communal standpipe|          functional|\n",
            "+-----+----------+-------------------+--------------------+----------+--------------------+-----------+-------------------+--------------------+-----------+--------------------+---------------+-----------+-----------+-------------+----------------+--------------+----------+--------------+--------------------+-----------------+--------------------+------+-----------------+---------------+---------------------+---------------------+----------------+----------------+--------------------+------------+-------------+-------------+------------+--------------+--------------------+--------------------+------------+--------------------+---------------------+--------------------+\n",
            "only showing top 20 rows\n",
            "\n",
            "None\n"
          ],
          "name": "stdout"
        }
      ]
    },
    {
      "cell_type": "code",
      "metadata": {
        "colab": {
          "base_uri": "https://localhost:8080/"
        },
        "id": "hoRiuCgbs4Jm",
        "outputId": "db900ce9-fbbf-426a-ced9-80bf014b43ac"
      },
      "source": [
        "print(data.columns)"
      ],
      "execution_count": 23,
      "outputs": [
        {
          "output_type": "stream",
          "text": [
            "['id', 'amount_tsh', 'date_recorded', 'funder', 'gps_height', 'installer', 'longitude', 'latitude', 'wpt_name', 'num_private', 'basin', 'subvillage', 'region', 'region_code', 'district_code', 'lga', 'ward', 'population', 'public_meeting', 'recorded_by', 'scheme_management', 'scheme_name', 'permit', 'construction_year', 'extraction_type', 'extraction_type_group', 'extraction_type_class', 'management', 'management_group', 'payment', 'payment_type', 'water_quality', 'quality_group', 'quantity', 'quantity_group', 'source', 'source_type', 'source_class', 'waterpoint_type', 'waterpoint_type_group', 'status_group']\n"
          ],
          "name": "stdout"
        }
      ]
    },
    {
      "cell_type": "markdown",
      "metadata": {
        "id": "ybjHZcDP2l-9"
      },
      "source": [
        "Task 2 - Change column type, drop duplicated rows, remove whitespacs. If you are disconnected, please run the previous cells by clicking on this cell, going to Runtime, then clicking Run before.\n"
      ]
    },
    {
      "cell_type": "code",
      "metadata": {
        "colab": {
          "base_uri": "https://localhost:8080/"
        },
        "id": "RmQfXFDA2pFK",
        "outputId": "3189834f-47d9-4c28-8a50-8343d64ddabb"
      },
      "source": [
        "print (data.printSchema())"
      ],
      "execution_count": 31,
      "outputs": [
        {
          "output_type": "stream",
          "text": [
            "root\n",
            " |-- id: integer (nullable = true)\n",
            " |-- amount_tsh: double (nullable = true)\n",
            " |-- date_recorded: timestamp (nullable = true)\n",
            " |-- funder: string (nullable = true)\n",
            " |-- gps_height: integer (nullable = true)\n",
            " |-- installer: string (nullable = true)\n",
            " |-- longitude: double (nullable = true)\n",
            " |-- latitude: double (nullable = true)\n",
            " |-- wpt_name: string (nullable = true)\n",
            " |-- num_private: integer (nullable = true)\n",
            " |-- basin: string (nullable = true)\n",
            " |-- subvillage: string (nullable = true)\n",
            " |-- region: string (nullable = true)\n",
            " |-- region_code: integer (nullable = true)\n",
            " |-- district_code: integer (nullable = true)\n",
            " |-- lga: string (nullable = true)\n",
            " |-- ward: string (nullable = true)\n",
            " |-- population: integer (nullable = true)\n",
            " |-- public_meeting: boolean (nullable = true)\n",
            " |-- recorded_by: string (nullable = true)\n",
            " |-- scheme_management: string (nullable = true)\n",
            " |-- scheme_name: string (nullable = true)\n",
            " |-- permit: boolean (nullable = true)\n",
            " |-- construction_year: integer (nullable = true)\n",
            " |-- extraction_type: string (nullable = true)\n",
            " |-- extraction_type_group: string (nullable = true)\n",
            " |-- extraction_type_class: string (nullable = true)\n",
            " |-- management: string (nullable = true)\n",
            " |-- management_group: string (nullable = true)\n",
            " |-- payment: string (nullable = true)\n",
            " |-- payment_type: string (nullable = true)\n",
            " |-- water_quality: string (nullable = true)\n",
            " |-- quality_group: string (nullable = true)\n",
            " |-- quantity: string (nullable = true)\n",
            " |-- quantity_group: string (nullable = true)\n",
            " |-- source: string (nullable = true)\n",
            " |-- source_type: string (nullable = true)\n",
            " |-- source_class: string (nullable = true)\n",
            " |-- waterpoint_type: string (nullable = true)\n",
            " |-- waterpoint_type_group: string (nullable = true)\n",
            " |-- status_group: string (nullable = true)\n",
            "\n",
            "None\n"
          ],
          "name": "stdout"
        }
      ]
    },
    {
      "cell_type": "code",
      "metadata": {
        "id": "OAofjKuU39oK"
      },
      "source": [
        "data = data.withColumn('region_code', col('region_code').cast(StringType())).withColumn('district_code', col('district_code').cast(StringType()))"
      ],
      "execution_count": 36,
      "outputs": []
    },
    {
      "cell_type": "code",
      "metadata": {
        "colab": {
          "base_uri": "https://localhost:8080/"
        },
        "id": "LXG1uXbb9UsH",
        "outputId": "52fb1fdc-5f7e-4696-f586-1ae54e1d5108"
      },
      "source": [
        "print(data.printSchema())"
      ],
      "execution_count": 37,
      "outputs": [
        {
          "output_type": "stream",
          "text": [
            "root\n",
            " |-- id: integer (nullable = true)\n",
            " |-- amount_tsh: double (nullable = true)\n",
            " |-- date_recorded: timestamp (nullable = true)\n",
            " |-- funder: string (nullable = true)\n",
            " |-- gps_height: integer (nullable = true)\n",
            " |-- installer: string (nullable = true)\n",
            " |-- longitude: double (nullable = true)\n",
            " |-- latitude: double (nullable = true)\n",
            " |-- wpt_name: string (nullable = true)\n",
            " |-- num_private: integer (nullable = true)\n",
            " |-- basin: string (nullable = true)\n",
            " |-- subvillage: string (nullable = true)\n",
            " |-- region: string (nullable = true)\n",
            " |-- region_code: string (nullable = true)\n",
            " |-- district_code: string (nullable = true)\n",
            " |-- lga: string (nullable = true)\n",
            " |-- ward: string (nullable = true)\n",
            " |-- population: integer (nullable = true)\n",
            " |-- public_meeting: boolean (nullable = true)\n",
            " |-- recorded_by: string (nullable = true)\n",
            " |-- scheme_management: string (nullable = true)\n",
            " |-- scheme_name: string (nullable = true)\n",
            " |-- permit: boolean (nullable = true)\n",
            " |-- construction_year: integer (nullable = true)\n",
            " |-- extraction_type: string (nullable = true)\n",
            " |-- extraction_type_group: string (nullable = true)\n",
            " |-- extraction_type_class: string (nullable = true)\n",
            " |-- management: string (nullable = true)\n",
            " |-- management_group: string (nullable = true)\n",
            " |-- payment: string (nullable = true)\n",
            " |-- payment_type: string (nullable = true)\n",
            " |-- water_quality: string (nullable = true)\n",
            " |-- quality_group: string (nullable = true)\n",
            " |-- quantity: string (nullable = true)\n",
            " |-- quantity_group: string (nullable = true)\n",
            " |-- source: string (nullable = true)\n",
            " |-- source_type: string (nullable = true)\n",
            " |-- source_class: string (nullable = true)\n",
            " |-- waterpoint_type: string (nullable = true)\n",
            " |-- waterpoint_type_group: string (nullable = true)\n",
            " |-- status_group: string (nullable = true)\n",
            "\n",
            "None\n"
          ],
          "name": "stdout"
        }
      ]
    },
    {
      "cell_type": "markdown",
      "metadata": {
        "id": "F4nxtJz_5rfI"
      },
      "source": [
        ""
      ]
    },
    {
      "cell_type": "code",
      "metadata": {
        "id": "9aw-7Li39oHp"
      },
      "source": [
        "data = data.dropDuplicates(['id'])"
      ],
      "execution_count": 38,
      "outputs": []
    },
    {
      "cell_type": "code",
      "metadata": {
        "colab": {
          "base_uri": "https://localhost:8080/"
        },
        "id": "5sm4vH4a-atr",
        "outputId": "e8c5ec2b-8b4a-4480-92af-3b5e63f3cb09"
      },
      "source": [
        "data.count()"
      ],
      "execution_count": 39,
      "outputs": [
        {
          "output_type": "execute_result",
          "data": {
            "text/plain": [
              "59400"
            ]
          },
          "metadata": {
            "tags": []
          },
          "execution_count": 39
        }
      ]
    },
    {
      "cell_type": "code",
      "metadata": {
        "id": "VwoywiWN-iIv"
      },
      "source": [
        "str_cols = [item[0] for item in data.dtypes if item[1].startswith('string')]\n",
        "for cols in str_cols:\n",
        "  data = data.withColumn(cols, trim(data[cols]))"
      ],
      "execution_count": 41,
      "outputs": []
    },
    {
      "cell_type": "markdown",
      "metadata": {
        "id": "xN4Y2cJp7s5z"
      },
      "source": [
        "Task 3 - Remove columns with null values more than a threshold. If you are disconnected, please run the previous cells by clicking on this cell, going to Runtime, then clicking Run before."
      ]
    },
    {
      "cell_type": "markdown",
      "metadata": {
        "id": "KmpQmfp4uEy4"
      },
      "source": [
        "Task 4 - Group, aggregate, create pivot table. If you are disconnected, please run the previous cells by clicking on this cell, going to Runtime, then clicking Run before."
      ]
    },
    {
      "cell_type": "code",
      "metadata": {
        "id": "HUsdgoahiEXd"
      },
      "source": [
        ""
      ],
      "execution_count": null,
      "outputs": []
    },
    {
      "cell_type": "code",
      "metadata": {
        "id": "A7zeDN1cx9oP"
      },
      "source": [
        ""
      ],
      "execution_count": null,
      "outputs": []
    },
    {
      "cell_type": "code",
      "metadata": {
        "id": "rtu2cMrKyIFk"
      },
      "source": [
        ""
      ],
      "execution_count": null,
      "outputs": []
    },
    {
      "cell_type": "code",
      "metadata": {
        "id": "VOj2f4fxmdQ1"
      },
      "source": [
        ""
      ],
      "execution_count": null,
      "outputs": []
    },
    {
      "cell_type": "markdown",
      "metadata": {
        "id": "Sx78CSn9HJDx"
      },
      "source": [
        "Task 5 - Convert categories with low frequency to Others, impute missing values. If you are disconnected, please run the previous cells by clicking on this cell, going to Runtime, then clicking Run before."
      ]
    },
    {
      "cell_type": "code",
      "metadata": {
        "id": "3uPpQBZ3CAVc"
      },
      "source": [
        ""
      ],
      "execution_count": null,
      "outputs": []
    },
    {
      "cell_type": "code",
      "metadata": {
        "id": "eXilO8LqByNa"
      },
      "source": [
        ""
      ],
      "execution_count": null,
      "outputs": []
    },
    {
      "cell_type": "code",
      "metadata": {
        "id": "x4Wg-h2Lx-kE"
      },
      "source": [
        ""
      ],
      "execution_count": null,
      "outputs": []
    },
    {
      "cell_type": "code",
      "metadata": {
        "id": "DuUSjKOd4nGX"
      },
      "source": [
        ""
      ],
      "execution_count": null,
      "outputs": []
    },
    {
      "cell_type": "markdown",
      "metadata": {
        "id": "xLHuYRDSHVPr"
      },
      "source": [
        "Task 6 - Make visualizations. If you are disconnected, please run the previous cells by clicking on this cell, going to Runtime, then clicking Run before."
      ]
    },
    {
      "cell_type": "code",
      "metadata": {
        "id": "FHnj1SGvHnjt"
      },
      "source": [
        "color_status = {'functional': 'green', 'non functional': 'red', 'functional needs repair': 'blue'}"
      ],
      "execution_count": null,
      "outputs": []
    },
    {
      "cell_type": "code",
      "metadata": {
        "id": "12legEn-1bwG"
      },
      "source": [
        ""
      ],
      "execution_count": null,
      "outputs": []
    },
    {
      "cell_type": "code",
      "metadata": {
        "id": "Cii44bJF1iKR"
      },
      "source": [
        ""
      ],
      "execution_count": null,
      "outputs": []
    },
    {
      "cell_type": "code",
      "metadata": {
        "id": "dq2Ewtj81lZr"
      },
      "source": [
        ""
      ],
      "execution_count": null,
      "outputs": []
    },
    {
      "cell_type": "code",
      "metadata": {
        "id": "SKT44Mh61nmE"
      },
      "source": [
        ""
      ],
      "execution_count": null,
      "outputs": []
    },
    {
      "cell_type": "code",
      "metadata": {
        "id": "jnJk_rR8Eox4"
      },
      "source": [
        ""
      ],
      "execution_count": null,
      "outputs": []
    }
  ]
}